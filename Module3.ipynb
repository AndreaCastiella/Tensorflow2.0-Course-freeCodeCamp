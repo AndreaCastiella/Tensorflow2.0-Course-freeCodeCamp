{
  "nbformat": 4,
  "nbformat_minor": 0,
  "metadata": {
    "colab": {
      "name": "Module3.ipynb",
      "provenance": [],
      "collapsed_sections": [],
      "authorship_tag": "ABX9TyMb53YUobqkfHbhGk9Mcs2I",
      "include_colab_link": true
    },
    "kernelspec": {
      "name": "python3",
      "display_name": "Python 3"
    }
  },
  "cells": [
    {
      "cell_type": "markdown",
      "metadata": {
        "id": "view-in-github",
        "colab_type": "text"
      },
      "source": [
        "<a href=\"https://colab.research.google.com/github/AndreaCastiella/Tensorflow2.0-Course-freeCodeCamp/blob/main/Module3.ipynb\" target=\"_parent\"><img src=\"https://colab.research.google.com/assets/colab-badge.svg\" alt=\"Open In Colab\"/></a>"
      ]
    },
    {
      "cell_type": "markdown",
      "metadata": {
        "id": "Dzqc7SSh2FvN"
      },
      "source": [
        "# Module 3"
      ]
    },
    {
      "cell_type": "markdown",
      "metadata": {
        "id": "FDeqfjt44hZn"
      },
      "source": [
        "# Tensorflow Core Learning Algorithms\r\n",
        "\r\n",
        "*   Linear Regression\r\n",
        "*   Classification\r\n",
        "*   Clustering\r\n",
        "*   Hidden Markov Models\r\n",
        "\r\n"
      ]
    },
    {
      "cell_type": "markdown",
      "metadata": {
        "id": "CVxGcpLE4ydd"
      },
      "source": [
        "# Linear Regression\r\n",
        "\r\n",
        "Linear regression is one of the most basic forms of machine learning and is used to predict numeric values.\r\n",
        "\r\n",
        "This section is based on the following documentation: https://www.tensorflow.org/tutorials/estimator/linear"
      ]
    },
    {
      "cell_type": "markdown",
      "metadata": {
        "id": "9XvoVBBV5Xg7"
      },
      "source": [
        "## How it works\r\n",
        "\r\n",
        "Linear regression follows a very simple concept. If data points are related linearly, we can generate a line of best fit for these points and use it to predict future values."
      ]
    },
    {
      "cell_type": "code",
      "metadata": {
        "id": "kyBBFNqq5gDK"
      },
      "source": [
        "!pip install -q sklearn"
      ],
      "execution_count": 1,
      "outputs": []
    },
    {
      "cell_type": "code",
      "metadata": {
        "id": "iQtayubh7SA7"
      },
      "source": [
        "%tensorflow_version 2.x"
      ],
      "execution_count": 2,
      "outputs": []
    },
    {
      "cell_type": "code",
      "metadata": {
        "id": "BwwyX5nj7X2I"
      },
      "source": [
        "from __future__ import absolute_import, division, print_function, unicode_literals\r\n",
        "\r\n",
        "import numpy as np\r\n",
        "import pandas as pd\r\n",
        "import matplotlib.pyplot as plt\r\n",
        "from IPython.display import clear_output\r\n",
        "from six.moves import urllib\r\n",
        "\r\n",
        "import tensorflow.compat.v2.feature_column as fc\r\n",
        "\r\n",
        "import tensorflow as tf"
      ],
      "execution_count": 3,
      "outputs": []
    },
    {
      "cell_type": "markdown",
      "metadata": {
        "id": "0l2EdCHl8Nnb"
      },
      "source": [
        "##### Data\r\n",
        "\r\n",
        "The dataset we will be focusing on here is the titanic dataset. It has tons of information about each passanger on the ship. "
      ]
    },
    {
      "cell_type": "code",
      "metadata": {
        "id": "ShHYz03K8cNv"
      },
      "source": [
        "#Load dataset\r\n",
        "dftrain = pd.read_csv('https://storage.googleapis.com/tf-datasets/titanic/train.csv') # training data\r\n",
        "dfeval = pd.read_csv('https://storage.googleapis.com/tf-datasets/titanic/eval.csv') # testing data\r\n",
        "#print(dftrain.head())\r\n",
        "y_train = dftrain.pop('survived') # it pops the data of (removes from dftrain and stores it in y_train)\r\n",
        "y_eval = dfeval.pop('survived')\r\n",
        "#print(dftrain.head())\r\n",
        "#print(y_train)\r\n",
        "#print(dftrain.loc[0], y_train.loc[0])"
      ],
      "execution_count": null,
      "outputs": []
    },
    {
      "cell_type": "markdown",
      "metadata": {
        "id": "4nfw8nhE_D0a"
      },
      "source": [
        "And if we want a more statistical analysis of our data we can use the .describe() method."
      ]
    },
    {
      "cell_type": "code",
      "metadata": {
        "id": "r2oSgKIN-7eK"
      },
      "source": [
        "dftrain.describe()"
      ],
      "execution_count": null,
      "outputs": []
    },
    {
      "cell_type": "markdown",
      "metadata": {
        "id": "568sgQe3_LgR"
      },
      "source": [
        "Shape"
      ]
    },
    {
      "cell_type": "code",
      "metadata": {
        "id": "IseqJg1j_NSz"
      },
      "source": [
        "dftrain.shape"
      ],
      "execution_count": null,
      "outputs": []
    },
    {
      "cell_type": "markdown",
      "metadata": {
        "id": "FuSINk_I_hZh"
      },
      "source": [
        "**Generate graphs of the data**"
      ]
    },
    {
      "cell_type": "code",
      "metadata": {
        "colab": {
          "base_uri": "https://localhost:8080/",
          "height": 283
        },
        "id": "5SEtGL0I_mbQ",
        "outputId": "20194172-cdd4-4caf-965b-3c585950fe02"
      },
      "source": [
        "dftrain.age.hist(bins=20)"
      ],
      "execution_count": 14,
      "outputs": [
        {
          "output_type": "execute_result",
          "data": {
            "text/plain": [
              "<matplotlib.axes._subplots.AxesSubplot at 0x7f0314b985f8>"
            ]
          },
          "metadata": {
            "tags": []
          },
          "execution_count": 14
        },
        {
          "output_type": "display_data",
          "data": {
            "image/png": "[encoded data removed]",
            "text/plain": [
              "<Figure size 432x288 with 1 Axes>"
            ]
          },
          "metadata": {
            "tags": [],
            "needs_background": "light"
          }
        }
      ]
    },
    {
      "cell_type": "code",
      "metadata": {
        "colab": {
          "base_uri": "https://localhost:8080/",
          "height": 283
        },
        "id": "oNBua7vl_sg6",
        "outputId": "c90880a8-f821-412c-fce0-5214124eed8c"
      },
      "source": [
        "dftrain.sex.value_counts().plot(kind='barh')"
      ],
      "execution_count": 15,
      "outputs": [
        {
          "output_type": "execute_result",
          "data": {
            "text/plain": [
              "<matplotlib.axes._subplots.AxesSubplot at 0x7f03149aad30>"
            ]
          },
          "metadata": {
            "tags": []
          },
          "execution_count": 15
        },
        {
          "output_type": "display_data",
          "data": {
            "image/png": "[encoded data removed]",
            "text/plain": [
              "<Figure size 432x288 with 1 Axes>"
            ]
          },
          "metadata": {
            "tags": [],
            "needs_background": "light"
          }
        }
      ]
    },
    {
      "cell_type": "code",
      "metadata": {
        "colab": {
          "base_uri": "https://localhost:8080/",
          "height": 283
        },
        "id": "y44seiPI_3cO",
        "outputId": "94a0269e-cab9-44a6-bd08-45e6c0546a7a"
      },
      "source": [
        "dftrain['class'].value_counts().plot(kind='barh')"
      ],
      "execution_count": 16,
      "outputs": [
        {
          "output_type": "execute_result",
          "data": {
            "text/plain": [
              "<matplotlib.axes._subplots.AxesSubplot at 0x7f03149a2cc0>"
            ]
          },
          "metadata": {
            "tags": []
          },
          "execution_count": 16
        },
        {
          "output_type": "display_data",
          "data": {
            "image/png": "[encoded data removed]",
            "text/plain": [
              "<Figure size 432x288 with 1 Axes>"
            ]
          },
          "metadata": {
            "tags": [],
            "needs_background": "light"
          }
        }
      ]
    },
    {
      "cell_type": "code",
      "metadata": {
        "colab": {
          "base_uri": "https://localhost:8080/",
          "height": 297
        },
        "id": "Iih2uMTC__Lr",
        "outputId": "b6203d96-5e79-47ed-a0d9-e0aa5bbcee28"
      },
      "source": [
        "pd.concat([dftrain, y_train], axis=1).groupby('sex').survived.mean().plot(kind='barh').set_xlabel('%survived')"
      ],
      "execution_count": 18,
      "outputs": [
        {
          "output_type": "execute_result",
          "data": {
            "text/plain": [
              "Text(0.5, 0, '%survived')"
            ]
          },
          "metadata": {
            "tags": []
          },
          "execution_count": 18
        },
        {
          "output_type": "display_data",
          "data": {
            "image/png": "[encoded data removed]",
            "text/plain": [
              "<Figure size 432x288 with 1 Axes>"
            ]
          },
          "metadata": {
            "tags": [],
            "needs_background": "light"
          }
        }
      ]
    },
    {
      "cell_type": "markdown",
      "metadata": {
        "id": "R9a2UTgsAgly"
      },
      "source": [
        "##Training vs Testing Data\r\n",
        "You may have noticed that we loaded two different datasets above. This is because when we train models, we need two sets of data: training and testing.\r\n",
        "\r\n",
        "The training data is what we feed to the model so that it can develop and learn. It is usually a much larger size than the testing data.\r\n",
        "\r\n",
        "The testing data is what we use to evaulate the model and see how well it is performing. We must use a seperate set of data that the model has not been trained on to evaluate it.**texto en negrita**\r\n",
        "\r\n",
        "The point of our model is to be able to make predictions on NEW data, data that we have never seen before. If we simply test the model on the data that it has already seen we cannot measure its accuracy accuratly. We can't be sure that the model hasn't simply memorized our training data. This is why we need our testing and training data to be seperate."
      ]
    },
    {
      "cell_type": "code",
      "metadata": {
        "colab": {
          "base_uri": "https://localhost:8080/"
        },
        "id": "y3j8Dm4vA92L",
        "outputId": "fbb92962-f9c0-4d9a-a578-66a3e0d87fbb"
      },
      "source": [
        "dfeval.shape"
      ],
      "execution_count": 21,
      "outputs": [
        {
          "output_type": "execute_result",
          "data": {
            "text/plain": [
              "(264, 9)"
            ]
          },
          "metadata": {
            "tags": []
          },
          "execution_count": 21
        }
      ]
    },
    {
      "cell_type": "markdown",
      "metadata": {
        "id": "KfZUJw1YAwA3"
      },
      "source": [
        "##Feature Columns\r\n",
        "In our dataset we have two different kinds of information: Categorical and Numeric\r\n",
        "\r\n",
        "Our categorical data is anything that is not numeric! For example, the sex column does not use numbers, it uses the words \"male\" and \"female\".\r\n",
        "\r\n",
        "Before we continue and create/train a model we must convet our categorical data into numeric data. We can do this by encoding each category with an integer (ex. male = 1, female = 2)."
      ]
    },
    {
      "cell_type": "code",
      "metadata": {
        "id": "jAKaM0Z-A3kr"
      },
      "source": [
        "CATEGORICAL_COLUMNS = ['sex', 'n_siblings_spouses', 'parch', 'class', 'deck', 'embark_town', 'alone']\r\n",
        "\r\n",
        "NUMERIC_COLUMS = ['age', 'fare']\r\n",
        "\r\n",
        "feature_columns = []\r\n",
        "for feature_name in CATEGORICAL_COLUMNS:\r\n",
        "  vocabulary = dftrain[feature_name].unique() # gets a list of all unique values from given feature column\r\n",
        "  feature_columns.append(tf.feature_column.categorical_column_with_vocabulary_list(feature_name, vocabulary))\r\n",
        "\r\n",
        "for feature_name in NUMERIC_COLUMS:\r\n",
        "  feature_columns.append(tf.feature_column.numeric_column(feature_name, dtype=tf.float32))\r\n",
        "\r\n",
        "#print(feature_columns)"
      ],
      "execution_count": null,
      "outputs": []
    },
    {
      "cell_type": "markdown",
      "metadata": {
        "id": "XhwmimXPDy7F"
      },
      "source": [
        "## The Training Process\r\n",
        "\r\n",
        "For this specific model data is going to be streamed into it in small batches of 32. This means we will not feed the entire dataset to our model at once, but simply small batches of entries. We will feed these batches to our model multiple times according to the number of epochs.\r\n",
        "\r\n",
        "An epoch is simply one The number of epochs we define is the amount of times our modstream of our entire dataset. el will see the entire dataset. We use multiple epochs in hope that after seeing the same data multiple times the model will better determine how to estimate it.\r\n",
        "\r\n",
        "Ex. if we have 10 ephocs, our model will see the same dataset 10 times.\r\n",
        "\r\n",
        "Since we need to feed our data in batches and multiple times, we need to create something called an input function. The input function simply defines how our dataset will be converted into batches at each epoch."
      ]
    },
    {
      "cell_type": "markdown",
      "metadata": {
        "id": "RhJoPa6eEIxv"
      },
      "source": [
        "### Input Function\r\n",
        "\r\n",
        "The TensorFlow model we are going to use requires that the data we pass it comes in as a tf.data.Dataset object. This means we must create a input function that can convert our current pandas dataframe into that object.\r\n",
        "\r\n",
        "Below you'll see a seemingly complicated input function, this is straight from the TensorFlow documentation (https://www.tensorflow.org/tutorials/estimator/linear). "
      ]
    },
    {
      "cell_type": "code",
      "metadata": {
        "id": "wTek7xOYESFE"
      },
      "source": [
        "def make_input_fn(data_df, label_df, num_epochs=10, shuffle=True, batch_size=32):\r\n",
        "  def input_function():  # inner function, this will be returned\r\n",
        "    ds = tf.data.Dataset.from_tensor_slices((dict(data_df), label_df))  # create tf.data.Dataset object with data and its label\r\n",
        "    if shuffle:\r\n",
        "      ds = ds.shuffle(1000)  # randomize order of data\r\n",
        "    ds = ds.batch(batch_size).repeat(num_epochs)  # split dataset into batches of 32 and repeat process for number of epochs\r\n",
        "    return ds  # return a batch of the dataset\r\n",
        "  return input_function  # return a function object for use\r\n",
        "\r\n",
        "train_input_fn = make_input_fn(dftrain, y_train)  # here we will call the input_function that was returned to us to get a dataset object we can feed to the model\r\n",
        "eval_input_fn = make_input_fn(dfeval, y_eval, num_epochs=1, shuffle=False)\r\n"
      ],
      "execution_count": 23,
      "outputs": []
    },
    {
      "cell_type": "markdown",
      "metadata": {
        "id": "DLshw6cFLhb7"
      },
      "source": [
        "### Creating the Model\r\n",
        "\r\n",
        "We are going to use a linear estimator to utilize the linear regression algorithm."
      ]
    },
    {
      "cell_type": "code",
      "metadata": {
        "colab": {
          "base_uri": "https://localhost:8080/"
        },
        "id": "mk0lzMGsLtht",
        "outputId": "e409bae5-2dd3-43dd-cd47-e32834caea9f"
      },
      "source": [
        "linear_est = tf.estimator.LinearClassifier(feature_columns=feature_columns)\r\n",
        "# We create a linear estimator by passing the feature columns we created earlier."
      ],
      "execution_count": 24,
      "outputs": [
        {
          "output_type": "stream",
          "text": [
            "INFO:tensorflow:Using default config.\n",
            "WARNING:tensorflow:Using temporary folder as model directory: /tmp/tmp2k76bj77\n",
            "INFO:tensorflow:Using config: {'_model_dir': '/tmp/tmp2k76bj77', '_tf_random_seed': None, '_save_summary_steps': 100, '_save_checkpoints_steps': None, '_save_checkpoints_secs': 600, '_session_config': allow_soft_placement: true\n",
            "graph_options {\n",
            "  rewrite_options {\n",
            "    meta_optimizer_iterations: ONE\n",
            "  }\n",
            "}\n",
            ", '_keep_checkpoint_max': 5, '_keep_checkpoint_every_n_hours': 10000, '_log_step_count_steps': 100, '_train_distribute': None, '_device_fn': None, '_protocol': None, '_eval_distribute': None, '_experimental_distribute': None, '_experimental_max_worker_delay_secs': None, '_session_creation_timeout_secs': 7200, '_checkpoint_save_graph_def': True, '_service': None, '_cluster_spec': ClusterSpec({}), '_task_type': 'worker', '_task_id': 0, '_global_id_in_cluster': 0, '_master': '', '_evaluation_master': '', '_is_chief': True, '_num_ps_replicas': 0, '_num_worker_replicas': 1}\n"
          ],
          "name": "stdout"
        }
      ]
    },
    {
      "cell_type": "markdown",
      "metadata": {
        "id": "ZdKSZwzEMQdo"
      },
      "source": [
        "### Training the Model\r\n",
        "\r\n",
        "Pass the input functions that we created."
      ]
    },
    {
      "cell_type": "code",
      "metadata": {
        "id": "7WQrYoAVMX71"
      },
      "source": [
        "linear_est.train(train_input_fn) # Train\r\n",
        "result = linear_est.evaluate(eval_input_fn)\r\n",
        "\r\n",
        "clear_output()\r\n",
        "print(result) # the result variable is a dict of stats about the model\r\n",
        "#print(result['accuracy'])\r\n"
      ],
      "execution_count": null,
      "outputs": []
    },
    {
      "cell_type": "code",
      "metadata": {
        "id": "H_GhXdPiNtrW"
      },
      "source": [
        "result = list(linear_est.predict(eval_input_fn))\r\n",
        "print(dfeval.loc[24])\r\n",
        "print(y_train[24])\r\n",
        "print(result[24]['probabilities'][1])"
      ],
      "execution_count": null,
      "outputs": []
    },
    {
      "cell_type": "markdown",
      "metadata": {
        "id": "TACSN-KuQeWb"
      },
      "source": [
        "# Classification\r\n",
        "\r\n",
        "Where regression was used to predict a numeric value, classification is used to seperate data points into classes of different labels. In this example we will use a TensorFlow estimator to classify flowers.\r\n",
        "\r\n",
        "This section is based on the following guide from the TensorFlow website. https://www.tensorflow.org/tutorials/estimator/premade"
      ]
    },
    {
      "cell_type": "markdown",
      "metadata": {
        "id": "g1wKRBJiQpoW"
      },
      "source": [
        "## Imports and Setups"
      ]
    },
    {
      "cell_type": "code",
      "metadata": {
        "id": "s08DZ0b2Qs8l"
      },
      "source": [
        "%tensorflow_version 2.x"
      ],
      "execution_count": 2,
      "outputs": []
    },
    {
      "cell_type": "code",
      "metadata": {
        "id": "luweiFWEQxTh"
      },
      "source": [
        "from __future__ import absolute_import, division, print_function, unicode_literals\r\n",
        "\r\n",
        "import tensorflow as tf\r\n",
        "\r\n",
        "import pandas as pd"
      ],
      "execution_count": 3,
      "outputs": []
    },
    {
      "cell_type": "markdown",
      "metadata": {
        "id": "aO7hj3hJQ7PU"
      },
      "source": [
        "## Dataset\r\n",
        "\r\n",
        "This specific dataset seperates flowers into 3 different classes of species.\r\n",
        "\r\n",
        "*   Setosa\r\n",
        "*   Versicolor\r\n",
        "*   Virginica\r\n",
        "\r\n",
        "\r\n",
        "The information about each flower is the following.\r\n",
        "*   sepal length\r\n",
        "*   sepal width\r\n",
        "*   petal length\r\n",
        "*   petal width\r\n"
      ]
    },
    {
      "cell_type": "code",
      "metadata": {
        "id": "w6lGy949RZqx"
      },
      "source": [
        "CSV_COLUMN_NAMES = ['SepalLength', 'SepalWidth', 'PetalLength', 'PetalWidth', 'Species']\r\n",
        "SPECIES = ['Setosa', 'Versicolor', 'Viginica']"
      ],
      "execution_count": 8,
      "outputs": []
    },
    {
      "cell_type": "code",
      "metadata": {
        "id": "dJ92UxEZKEfE"
      },
      "source": [
        "train_path = tf.keras.utils.get_file(\"iris_training.csv\", \"https://storage.googleapis.com/download.tensorflow.org/data/iris_training.csv\")\r\n",
        "test_path = tf.keras.utils.get_file(\"iris_test.csv\", \"https://storage.googleapis.com/download.tensorflow.org/data/iris_test.csv\")\r\n",
        "\r\n",
        "train = pd.read_csv(train_path, names=CSV_COLUMN_NAMES, header=0)\r\n",
        "test = pd.read_csv(test_path, names=CSV_COLUMN_NAMES, header=0)\r\n",
        "# Use Kera to gab our datasets and read them into a pandas dataframe."
      ],
      "execution_count": 9,
      "outputs": []
    },
    {
      "cell_type": "code",
      "metadata": {
        "colab": {
          "base_uri": "https://localhost:8080/",
          "height": 197
        },
        "id": "WtxLieGrLIPK",
        "outputId": "cc759529-a14f-421f-80de-199cf84bd965"
      },
      "source": [
        "train.head()"
      ],
      "execution_count": 10,
      "outputs": [
        {
          "output_type": "execute_result",
          "data": {
            "text/html": [
              "<div>\n",
              "<style scoped>\n",
              "    .dataframe tbody tr th:only-of-type {\n",
              "        vertical-align: middle;\n",
              "    }\n",
              "\n",
              "    .dataframe tbody tr th {\n",
              "        vertical-align: top;\n",
              "    }\n",
              "\n",
              "    .dataframe thead th {\n",
              "        text-align: right;\n",
              "    }\n",
              "</style>\n",
              "<table border=\"1\" class=\"dataframe\">\n",
              "  <thead>\n",
              "    <tr style=\"text-align: right;\">\n",
              "      <th></th>\n",
              "      <th>SepalLength</th>\n",
              "      <th>SepalWidth</th>\n",
              "      <th>PetalLength</th>\n",
              "      <th>PetalWidth</th>\n",
              "      <th>Species</th>\n",
              "    </tr>\n",
              "  </thead>\n",
              "  <tbody>\n",
              "    <tr>\n",
              "      <th>0</th>\n",
              "      <td>6.4</td>\n",
              "      <td>2.8</td>\n",
              "      <td>5.6</td>\n",
              "      <td>2.2</td>\n",
              "      <td>2</td>\n",
              "    </tr>\n",
              "    <tr>\n",
              "      <th>1</th>\n",
              "      <td>5.0</td>\n",
              "      <td>2.3</td>\n",
              "      <td>3.3</td>\n",
              "      <td>1.0</td>\n",
              "      <td>1</td>\n",
              "    </tr>\n",
              "    <tr>\n",
              "      <th>2</th>\n",
              "      <td>4.9</td>\n",
              "      <td>2.5</td>\n",
              "      <td>4.5</td>\n",
              "      <td>1.7</td>\n",
              "      <td>2</td>\n",
              "    </tr>\n",
              "    <tr>\n",
              "      <th>3</th>\n",
              "      <td>4.9</td>\n",
              "      <td>3.1</td>\n",
              "      <td>1.5</td>\n",
              "      <td>0.1</td>\n",
              "      <td>0</td>\n",
              "    </tr>\n",
              "    <tr>\n",
              "      <th>4</th>\n",
              "      <td>5.7</td>\n",
              "      <td>3.8</td>\n",
              "      <td>1.7</td>\n",
              "      <td>0.3</td>\n",
              "      <td>0</td>\n",
              "    </tr>\n",
              "  </tbody>\n",
              "</table>\n",
              "</div>"
            ],
            "text/plain": [
              "   SepalLength  SepalWidth  PetalLength  PetalWidth  Species\n",
              "0          6.4         2.8          5.6         2.2        2\n",
              "1          5.0         2.3          3.3         1.0        1\n",
              "2          4.9         2.5          4.5         1.7        2\n",
              "3          4.9         3.1          1.5         0.1        0\n",
              "4          5.7         3.8          1.7         0.3        0"
            ]
          },
          "metadata": {
            "tags": []
          },
          "execution_count": 10
        }
      ]
    },
    {
      "cell_type": "markdown",
      "metadata": {
        "id": "1fl6C7hsLhku"
      },
      "source": [
        "Now we can pop the species column off and use it for our label."
      ]
    },
    {
      "cell_type": "code",
      "metadata": {
        "colab": {
          "base_uri": "https://localhost:8080/",
          "height": 197
        },
        "id": "NuOMb5taLn2k",
        "outputId": "8bf9d8fd-9b0f-4fb2-a839-ba2c7a998716"
      },
      "source": [
        "train_y = train.pop('Species')\r\n",
        "test_y = test.pop('Species')\r\n",
        "\r\n",
        "train.head()"
      ],
      "execution_count": 11,
      "outputs": [
        {
          "output_type": "execute_result",
          "data": {
            "text/html": [
              "<div>\n",
              "<style scoped>\n",
              "    .dataframe tbody tr th:only-of-type {\n",
              "        vertical-align: middle;\n",
              "    }\n",
              "\n",
              "    .dataframe tbody tr th {\n",
              "        vertical-align: top;\n",
              "    }\n",
              "\n",
              "    .dataframe thead th {\n",
              "        text-align: right;\n",
              "    }\n",
              "</style>\n",
              "<table border=\"1\" class=\"dataframe\">\n",
              "  <thead>\n",
              "    <tr style=\"text-align: right;\">\n",
              "      <th></th>\n",
              "      <th>SepalLength</th>\n",
              "      <th>SepalWidth</th>\n",
              "      <th>PetalLength</th>\n",
              "      <th>PetalWidth</th>\n",
              "    </tr>\n",
              "  </thead>\n",
              "  <tbody>\n",
              "    <tr>\n",
              "      <th>0</th>\n",
              "      <td>6.4</td>\n",
              "      <td>2.8</td>\n",
              "      <td>5.6</td>\n",
              "      <td>2.2</td>\n",
              "    </tr>\n",
              "    <tr>\n",
              "      <th>1</th>\n",
              "      <td>5.0</td>\n",
              "      <td>2.3</td>\n",
              "      <td>3.3</td>\n",
              "      <td>1.0</td>\n",
              "    </tr>\n",
              "    <tr>\n",
              "      <th>2</th>\n",
              "      <td>4.9</td>\n",
              "      <td>2.5</td>\n",
              "      <td>4.5</td>\n",
              "      <td>1.7</td>\n",
              "    </tr>\n",
              "    <tr>\n",
              "      <th>3</th>\n",
              "      <td>4.9</td>\n",
              "      <td>3.1</td>\n",
              "      <td>1.5</td>\n",
              "      <td>0.1</td>\n",
              "    </tr>\n",
              "    <tr>\n",
              "      <th>4</th>\n",
              "      <td>5.7</td>\n",
              "      <td>3.8</td>\n",
              "      <td>1.7</td>\n",
              "      <td>0.3</td>\n",
              "    </tr>\n",
              "  </tbody>\n",
              "</table>\n",
              "</div>"
            ],
            "text/plain": [
              "   SepalLength  SepalWidth  PetalLength  PetalWidth\n",
              "0          6.4         2.8          5.6         2.2\n",
              "1          5.0         2.3          3.3         1.0\n",
              "2          4.9         2.5          4.5         1.7\n",
              "3          4.9         3.1          1.5         0.1\n",
              "4          5.7         3.8          1.7         0.3"
            ]
          },
          "metadata": {
            "tags": []
          },
          "execution_count": 11
        }
      ]
    },
    {
      "cell_type": "code",
      "metadata": {
        "colab": {
          "base_uri": "https://localhost:8080/"
        },
        "id": "7tJwp0hDMF7k",
        "outputId": "5868703e-103b-4dc5-efee-681dc1969bc4"
      },
      "source": [
        "train.shape # we have 120 entires with 4 features"
      ],
      "execution_count": 12,
      "outputs": [
        {
          "output_type": "execute_result",
          "data": {
            "text/plain": [
              "(120, 4)"
            ]
          },
          "metadata": {
            "tags": []
          },
          "execution_count": 12
        }
      ]
    },
    {
      "cell_type": "markdown",
      "metadata": {
        "id": "Dz4b39oCMUUI"
      },
      "source": [
        "## Input Function"
      ]
    },
    {
      "cell_type": "code",
      "metadata": {
        "id": "5It0r9JNMZX2"
      },
      "source": [
        "def input_fn(features, labels, training=True, batch_size=256):\r\n",
        "  # Convert the inputs to a Dataset\r\n",
        "  dataset = tf.data.Dataset.from_tensor_slices((dict(features), labels))\r\n",
        "\r\n",
        "  # Shuffle and repeat if ou are in training mode\r\n",
        "  if training:\r\n",
        "    dataset = dataset.shuffle(1000).repeat()\r\n",
        "\r\n",
        "  return dataset.batch(batch_size)"
      ],
      "execution_count": 19,
      "outputs": []
    },
    {
      "cell_type": "markdown",
      "metadata": {
        "id": "Hf3N4gWFNGXF"
      },
      "source": [
        "## Feature Columns"
      ]
    },
    {
      "cell_type": "code",
      "metadata": {
        "colab": {
          "base_uri": "https://localhost:8080/"
        },
        "id": "L0UDYGpENJdi",
        "outputId": "b7ecbf6b-bc53-4feb-9318-49ea3ef6084b"
      },
      "source": [
        "# Feature columns describe how to use the input.\r\n",
        "my_feature_columns = []\r\n",
        "for key in train.keys():\r\n",
        "  my_feature_columns.append(tf.feature_column.numeric_column(key=key))\r\n",
        "print(my_feature_columns)"
      ],
      "execution_count": 14,
      "outputs": [
        {
          "output_type": "stream",
          "text": [
            "[NumericColumn(key='SepalLength', shape=(1,), default_value=None, dtype=tf.float32, normalizer_fn=None), NumericColumn(key='SepalWidth', shape=(1,), default_value=None, dtype=tf.float32, normalizer_fn=None), NumericColumn(key='PetalLength', shape=(1,), default_value=None, dtype=tf.float32, normalizer_fn=None), NumericColumn(key='PetalWidth', shape=(1,), default_value=None, dtype=tf.float32, normalizer_fn=None)]\n"
          ],
          "name": "stdout"
        }
      ]
    },
    {
      "cell_type": "markdown",
      "metadata": {
        "id": "eszZftOlN7wQ"
      },
      "source": [
        "## Building the Model\r\n",
        "\r\n",
        "And now we are ready to choose a model. For classification tasks there are variety of different estimators/models that we can pick from. Some options are listed below.\r\n",
        "\r\n",
        "\r\n",
        "*   DNNClassifier (Deep Neural Network)\r\n",
        "*   LinearClassifier\r\n",
        "\r\n",
        "We can choose either model but the DNN seems to be the best choice. This is because we may not be able to find a linear coorespondence in our data."
      ]
    },
    {
      "cell_type": "code",
      "metadata": {
        "colab": {
          "base_uri": "https://localhost:8080/"
        },
        "id": "C_UyvQb-N-HG",
        "outputId": "c985b1da-0d34-4547-ad08-f13b2739925d"
      },
      "source": [
        "# Build a DNN with 2 hidden layers with 30 and 10 hidden nodes each.\r\n",
        "classifier = tf.estimator.DNNClassifier(\r\n",
        "feature_columns=my_feature_columns,\r\n",
        "# Two hidden layers of 30 and 10 nodes respectively.\r\n",
        "hidden_units = [30,10],\r\n",
        "# The model must choose between 3 classes.\r\n",
        "n_classes = 3)"
      ],
      "execution_count": 17,
      "outputs": [
        {
          "output_type": "stream",
          "text": [
            "INFO:tensorflow:Using default config.\n",
            "WARNING:tensorflow:Using temporary folder as model directory: /tmp/tmpyzah8281\n",
            "INFO:tensorflow:Using config: {'_model_dir': '/tmp/tmpyzah8281', '_tf_random_seed': None, '_save_summary_steps': 100, '_save_checkpoints_steps': None, '_save_checkpoints_secs': 600, '_session_config': allow_soft_placement: true\n",
            "graph_options {\n",
            "  rewrite_options {\n",
            "    meta_optimizer_iterations: ONE\n",
            "  }\n",
            "}\n",
            ", '_keep_checkpoint_max': 5, '_keep_checkpoint_every_n_hours': 10000, '_log_step_count_steps': 100, '_train_distribute': None, '_device_fn': None, '_protocol': None, '_eval_distribute': None, '_experimental_distribute': None, '_experimental_max_worker_delay_secs': None, '_session_creation_timeout_secs': 7200, '_checkpoint_save_graph_def': True, '_service': None, '_cluster_spec': ClusterSpec({}), '_task_type': 'worker', '_task_id': 0, '_global_id_in_cluster': 0, '_master': '', '_evaluation_master': '', '_is_chief': True, '_num_ps_replicas': 0, '_num_worker_replicas': 1}\n"
          ],
          "name": "stdout"
        }
      ]
    },
    {
      "cell_type": "markdown",
      "metadata": {
        "id": "se6Ya_v-PUQc"
      },
      "source": [
        "## Training"
      ]
    },
    {
      "cell_type": "code",
      "metadata": {
        "id": "t04zqFQ2PWx-"
      },
      "source": [
        "classifier.train(input_fn=lambda: input_fn(train, train_y, training=True), steps=5000)\r\n",
        "# We include a lambda to avoid creating an inner function previously"
      ],
      "execution_count": null,
      "outputs": []
    },
    {
      "cell_type": "code",
      "metadata": {
        "colab": {
          "base_uri": "https://localhost:8080/"
        },
        "id": "o3tEFwNlRFHN",
        "outputId": "fd279564-9fa3-417b-c979-998b9e9b058b"
      },
      "source": [
        "eval_result = classifier.evaluate(input_fn=lambda: input_fn(test, test_y, training=False))\r\n",
        "print('\\nTest set accuracy: {accuracy:0.3f}\\n'.format(**eval_result))"
      ],
      "execution_count": 23,
      "outputs": [
        {
          "output_type": "stream",
          "text": [
            "INFO:tensorflow:Calling model_fn.\n",
            "INFO:tensorflow:Done calling model_fn.\n",
            "INFO:tensorflow:Starting evaluation at 2021-02-06T16:56:23Z\n",
            "INFO:tensorflow:Graph was finalized.\n",
            "INFO:tensorflow:Restoring parameters from /tmp/tmpyzah8281/model.ckpt-10000\n",
            "INFO:tensorflow:Running local_init_op.\n",
            "INFO:tensorflow:Done running local_init_op.\n",
            "INFO:tensorflow:Inference Time : 0.22859s\n",
            "INFO:tensorflow:Finished evaluation at 2021-02-06-16:56:24\n",
            "INFO:tensorflow:Saving dict for global step 10000: accuracy = 0.8333333, average_loss = 0.5004536, global_step = 10000, loss = 0.5004536\n",
            "INFO:tensorflow:Saving 'checkpoint_path' summary for global step 10000: /tmp/tmpyzah8281/model.ckpt-10000\n",
            "\n",
            "Test set accuracy: 0.833\n",
            "\n"
          ],
          "name": "stdout"
        }
      ]
    },
    {
      "cell_type": "markdown",
      "metadata": {
        "id": "gzLgDrs8R1Am"
      },
      "source": [
        "## Predictions\r\n",
        "\r\n",
        "Now that we have a trained model it's time to use it to make predictions. I've written a little script below that allows you to type the features of a flower and see a prediction for its class."
      ]
    },
    {
      "cell_type": "code",
      "metadata": {
        "colab": {
          "base_uri": "https://localhost:8080/"
        },
        "id": "waPamlYyR5mP",
        "outputId": "510713f4-49f9-4e88-bdb4-42162b896b74"
      },
      "source": [
        "def input_fn(features, batch_size=256):\r\n",
        "    # Convert the inputs to a Dataset without labels.\r\n",
        "    return tf.data.Dataset.from_tensor_slices(dict(features)).batch(batch_size)\r\n",
        "\r\n",
        "features = ['SepalLength', 'SepalWidth', 'PetalLength', 'PetalWidth']\r\n",
        "predict = {}\r\n",
        "\r\n",
        "print(\"Please type numeric values as prompted.\")\r\n",
        "for feature in features:\r\n",
        "  valid = True\r\n",
        "  while valid: \r\n",
        "    val = input(feature + \": \")\r\n",
        "    if not val.isdigit(): valid = False\r\n",
        "\r\n",
        "  predict[feature] = [float(val)]\r\n",
        "\r\n",
        "predictions = classifier.predict(input_fn=lambda: input_fn(predict))\r\n",
        "for pred_dict in predictions:\r\n",
        "    class_id = pred_dict['class_ids'][0] # Index of class with most propabibity\r\n",
        "    probability = pred_dict['probabilities'][class_id]\r\n",
        "\r\n",
        "    print('Prediction is \"{}\" ({:.1f}%)'.format(\r\n",
        "        SPECIES[class_id], 100 * probability))\r\n"
      ],
      "execution_count": 24,
      "outputs": [
        {
          "output_type": "stream",
          "text": [
            "Please type numeric values as prompted.\n",
            "SepalLength: 2.3\n",
            "SepalWidth: 2.2\n",
            "PetalLength: 0.5\n",
            "PetalWidth: 0.8\n",
            "INFO:tensorflow:Calling model_fn.\n",
            "INFO:tensorflow:Done calling model_fn.\n",
            "INFO:tensorflow:Graph was finalized.\n",
            "INFO:tensorflow:Restoring parameters from /tmp/tmpyzah8281/model.ckpt-10000\n",
            "INFO:tensorflow:Running local_init_op.\n",
            "INFO:tensorflow:Done running local_init_op.\n",
            "Prediction is \"Setosa\" (73.0%)\n"
          ],
          "name": "stdout"
        }
      ]
    },
    {
      "cell_type": "markdown",
      "metadata": {
        "id": "LyBYMBmTTqld"
      },
      "source": [
        "# Clustering\r\n",
        "\r\n",
        "Clustering is a Machine Learning technique that involves the grouping of data points. In theory, data points that are in the same group should have similar properties and/or features, while data points in different groups should have highly dissimilar properties and/or features. (https://towardsdatascience.com/the-5-clustering-algorithms-data-scientists-need-to-know-a36d136ef68)\r\n",
        "\r\n",
        "Unfortunalty there are issues with the current version of TensorFlow and the implementation for KMeans. This means we cannot use KMeans without writing the algorithm from scratch. We aren't quite at that level yet, so we'll just explain the basics of clustering for now.\r\n",
        "\r\n",
        "Basic Algorithm for K-Means.\r\n",
        "\r\n",
        "*   Step 1: Randomly pick K points to place K centroids\r\n",
        "*   Step 2: Assign all the data points to the centroids by distance. The closest centroid to a point is the one it is assigned to.\r\n",
        "*   Step 3: Average all the points belonging to each centroid to find the middle of those clusters (center of mass). Place the corresponding centroids into that position.\r\n",
        "*   Step 4: Reassign every point once again to the closest centroid.\r\n",
        "*   Step 5: Repeat steps 3-4 until no point changes which centroid it belongs to.\r\n",
        "\r\n",
        "\r\n"
      ]
    },
    {
      "cell_type": "markdown",
      "metadata": {
        "id": "jAOUq9giVGX2"
      },
      "source": [
        "# Hidden Markov Models\r\n",
        "\r\n",
        "\"The Hidden Markov Model is a finite set of states, each of which is associated with a (generally multidimensional) probability distribution []. Transitions among the states are governed by a set of probabilities called transition probabilities.\" (http://jedlik.phy.bme.hu/~gerjanos/HMM/node4.html)\r\n",
        "\r\n",
        "A hidden markov model works with probabilities to predict future events or states. In this section we will learn how to create a hidden markov model that can predict the weather.\r\n",
        "\r\n",
        "This section is based on the following TensorFlow tutorial. https://www.tensorflow.org/probability/api_docs/python/tfp/distributions/HiddenMarkovModel"
      ]
    },
    {
      "cell_type": "markdown",
      "metadata": {
        "id": "HYYhpPEbVSYk"
      },
      "source": [
        "## Data\r\n",
        "\r\n",
        "In the previous sections we worked with large datasets of 100's of different entries. For a markov model we are only interested in probability distributions that have to do with states.\r\n",
        "\r\n",
        "We can find these probabilities from large datasets or may already have these values. We'll run through an example in a second that should clear some things up, but let's discuss the components of a markov model.\r\n",
        "\r\n",
        "States: In each markov model we have a finite set of states. These states could be something like \"warm\" and \"cold\" or \"high\" and \"low\" or even \"red\", \"green\" and \"blue\". These states are \"hidden\" within the model, which means we do not direcly observe them.\r\n",
        "\r\n",
        "Observations: Each state has a particular outcome or observation associated with it based on a probability distribution. An example of this is the following: On a hot day Tim has a 80% chance of being happy and a 20% chance of being sad.\r\n",
        "\r\n",
        "Transitions: Each state will have a probability defining the likelyhood of transitioning to a different state. An example is the following: a cold day has a 30% chance of being followed by a hot day and a 70% chance of being follwed by another cold day.\r\n",
        "\r\n",
        "To create a hidden markov model we need.\r\n",
        "\r\n",
        "*   States\r\n",
        "*   Observation Distribution\r\n",
        "*   Transition Distribution\r\n",
        "\r\n",
        "\r\n",
        "For our purpose we will assume we already have this information available as we attempt to predict the weather on a given day.\r\n"
      ]
    },
    {
      "cell_type": "markdown",
      "metadata": {
        "id": "Ic4XXkrEVl5p"
      },
      "source": [
        "## Imports and Setup"
      ]
    },
    {
      "cell_type": "code",
      "metadata": {
        "id": "I5SMkr05Vo-A"
      },
      "source": [
        "%tensorflow_version 2.x"
      ],
      "execution_count": 1,
      "outputs": []
    },
    {
      "cell_type": "code",
      "metadata": {
        "id": "dIFnKI5CY7W2"
      },
      "source": [
        "import tensorflow_probability as tfp  # We are using a different module from tensorflow this time\r\n",
        "import tensorflow as tf"
      ],
      "execution_count": 2,
      "outputs": []
    },
    {
      "cell_type": "markdown",
      "metadata": {
        "id": "Ji7wr3wzajCR"
      },
      "source": [
        "## Weather Model\r\n",
        "\r\n",
        "Taken direclty from the TensorFlow documentation (https://www.tensorflow.org/probability/api_docs/python/tfp/distributions/HiddenMarkovModel).\r\n",
        "\r\n",
        "We will model a simple weather system and try to predict the temperature on each day given the following information.\r\n",
        "\r\n",
        "*   Cold days are encoded by a 0 and hot days are encoded by a 1.\r\n",
        "*   The first day in our sequence has an 80% chance of being cold.\r\n",
        "*   A cold day has a 30% chance of being followed by a hot day.\r\n",
        "*   A hot day has a 20% chance of being followed by a cold day.\r\n",
        "*   On each day the temperature is normally distributed with mean and standard deviation 0 and 5 on a cold day and mean and standard deviation 15 and 10 on a hot day.\r\n"
      ]
    },
    {
      "cell_type": "code",
      "metadata": {
        "id": "LediaMQea6wx"
      },
      "source": [
        "tfd = tfp.distributions # shortcut\r\n",
        "initial_distribution = tfd.Categorical(probs=[0.8, 0.2]) # Refer to point 2\r\n",
        "transition_distribution = tfd.Categorical(probs=[[0.7, 0.3], [0.2, 0.8]]) # Refer to point 3 and 4\r\n",
        "observation_distribution = tfd.Normal(loc=[0., 15.], scale=[5., 10.]) # Refer to point 5\r\n",
        "\r\n",
        "# The loc argument represents the mean and the scale is the standard deviation."
      ],
      "execution_count": 4,
      "outputs": []
    },
    {
      "cell_type": "markdown",
      "metadata": {
        "id": "vjWUcb2ycQ_l"
      },
      "source": [
        "Create hidden Markov model"
      ]
    },
    {
      "cell_type": "code",
      "metadata": {
        "id": "j6VFGkqtcUY1"
      },
      "source": [
        "model = tfd.HiddenMarkovModel(initial_distribution=initial_distribution, \r\n",
        "                              transition_distribution=transition_distribution,\r\n",
        "                              observation_distribution=observation_distribution,\r\n",
        "                              num_steps=7)"
      ],
      "execution_count": 7,
      "outputs": []
    },
    {
      "cell_type": "markdown",
      "metadata": {
        "id": "G6BEFar7dJow"
      },
      "source": [
        "The number of steps represents the number of days that we would like to predict information for. In this case we've chosen 7, an entire week.\r\n",
        "\r\n",
        "To get the expected temperatures on each day we can do the following."
      ]
    },
    {
      "cell_type": "code",
      "metadata": {
        "colab": {
          "base_uri": "https://localhost:8080/"
        },
        "id": "65WToCSydOdg",
        "outputId": "08a68cde-8a48-4b9e-aec5-a059a315356f"
      },
      "source": [
        "mean = model.mean()\r\n",
        "\r\n",
        "# due to the way TensorFlow works on a lower level we need to evaluate part of the graph\r\n",
        "# from within a session to see the value of this tensor\r\n",
        "\r\n",
        "# in the new version of tensorflow we need to use tf.compat.v1.Session() rather than just tf.Session()\r\n",
        "\r\n",
        "with tf.compat.v1.Session() as sess:\r\n",
        "  print(mean.numpy())"
      ],
      "execution_count": 8,
      "outputs": [
        {
          "output_type": "stream",
          "text": [
            "[2.9999998 5.9999995 7.4999995 8.25      8.625001  8.812501  8.90625  ]\n"
          ],
          "name": "stdout"
        }
      ]
    }
  ]
}