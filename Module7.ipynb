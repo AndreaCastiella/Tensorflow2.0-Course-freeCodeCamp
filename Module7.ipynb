{
  "nbformat": 4,
  "nbformat_minor": 0,
  "metadata": {
    "colab": {
      "name": "Module7.ipynb",
      "provenance": [],
      "collapsed_sections": [],
      "authorship_tag": "ABX9TyPrLaAIi4b+lWmubMSCd/3L",
      "include_colab_link": true
    },
    "kernelspec": {
      "name": "python3",
      "display_name": "Python 3"
    }
  },
  "cells": [
    {
      "cell_type": "markdown",
      "metadata": {
        "id": "view-in-github",
        "colab_type": "text"
      },
      "source": [
        "<a href=\"https://colab.research.google.com/github/AndreaCastiella/Tensorflow2.0-Course-freeCodeCamp/blob/main/Module7.ipynb\" target=\"_parent\"><img src=\"https://colab.research.google.com/assets/colab-badge.svg\" alt=\"Open In Colab\"/></a>"
      ]
    },
    {
      "cell_type": "markdown",
      "metadata": {
        "id": "s7j8K7QrrFfd"
      },
      "source": [
        "#Module 7"
      ]
    },
    {
      "cell_type": "markdown",
      "metadata": {
        "id": "bFwPrqH3rHZ6"
      },
      "source": [
        "##Reinforcement Learning\r\n",
        "The next and final topic in this course covers *Reinforcement Learning*. This technique is different than many of the other machine learning techniques we have seen earlier and has many applications in training agents (an AI) to interact with enviornments like games. Rather than feeding our machine learning model millions of examples we let our model come up with its own examples by exploring an enviornemt. The concept is simple. Humans learn by exploring and learning from mistakes and past experiences so let's have our computer do the same.\r\n"
      ]
    },
    {
      "cell_type": "markdown",
      "metadata": {
        "id": "04ub4EfXrN5b"
      },
      "source": [
        "###Terminology\r\n",
        "Before we dive into explaining reinforcement learning we need to define a few key peices of terminology.\r\n",
        "\r\n",
        "**Enviornemt** In reinforcement learning tasks we have a notion of the enviornment. This is what our *agent* will explore. An example of an enviornment in the case of training an AI to play say a game of mario would be the level we are training the agent on.\r\n",
        "\r\n",
        "**Agent** an agent is an entity that is exploring the enviornment. Our agent will interact and take different actions within the enviornment. In our mario example the mario character within the game would be our agent. \r\n",
        "\r\n",
        "**State** always our agent will be in what we call a *state*. The state simply tells us about the status of the agent. The most common example of a state is the location of the agent within the enviornment. Moving locations would change the agents state.\r\n",
        "\r\n",
        "**Action** any interaction between the agent and enviornment would be considered an action. For example, moving to the left or jumping would be an action. An action may or may not change the current *state* of the agent. In fact, the act of doing nothing is an action as well! The action of say not pressing a key if we are using our mario example.\r\n",
        "\r\n",
        "**Reward** every action that our agent takes will result in a reward of some magnitude (positive or negative). The goal of our agent will be to maximize its reward in an enviornment. Sometimes the reward will be clear, for example if an agent performs an action which increases their score in the enviornment we could say they've recieved a positive reward. If the agent were to perform an action which results in them losing score or possibly dying in the enviornment then they would recieve a negative reward. \r\n",
        "\r\n",
        "The most important part of reinforcement learning is determing how to reward the agent. After all, the goal of the agent is to maximize its rewards. This means we should reward the agent appropiatly such that it reaches the desired goal."
      ]
    },
    {
      "cell_type": "markdown",
      "metadata": {
        "id": "hCsxDjIbrOfu"
      },
      "source": [
        "###Q-Learning\r\n",
        "Now that we have a vague idea of how reinforcement learning works it's time to talk about a specific technique in reinforcement learning called *Q-Learning*.\r\n",
        "\r\n",
        "Q-Learning is a simple yet quite powerful technique in machine learning that involves learning a matrix of action-reward values. This matrix is often reffered to as a Q-Table or Q-Matrix. The matrix is in shape (number of possible states, number of possible actions) where each value at matrix[n, m] represents the agents expected reward given they are in state n and take action m. The Q-learning algorithm defines the way we update the values in the matrix and decide what action to take at each state. The idea is that after a succesful training/learning of this Q-Table/matrix we can determine the action an agent should take in any state by looking at that states row in the matrix and taking the maximium value column as the action.\r\n",
        "\r\n",
        "**Consider this example.**\r\n",
        "\r\n",
        "Let's say A1-A4 are the possible actions and we have 3 states represented by each row (state 1 - state 3).\r\n",
        "\r\n",
        "| A1  | A2  | A3  | A4  |\r\n",
        "|:--: |:--: |:--: |:--: |\r\n",
        "|  0  |  0  | 10  |  5  |\r\n",
        "|  5  | 10  |  0  |  0  |\r\n",
        "| 10  |  5  |  0  |  0  |\r\n",
        "\r\n",
        "If that was our Q-Table/matrix then the following would be the preffered actions in each state.\r\n",
        "\r\n",
        "> State 1: A3\r\n",
        "\r\n",
        "> State 2: A2\r\n",
        "\r\n",
        "> State 3: A1\r\n",
        "\r\n",
        "We can see that this is because the values in each of those columns are the highest for those states!\r\n"
      ]
    },
    {
      "cell_type": "markdown",
      "metadata": {
        "id": "umfWiQUqrQ8W"
      },
      "source": [
        "###Learning the Q-Table\r\n",
        "So that's simple, right? Now how do we create this table and find those values. Well this is where we will dicuss how the Q-Learning algorithm updates the values in our Q-Table. \r\n",
        "\r\n",
        "I'll start by noting that our Q-Table starts of with all 0 values. This is because the agent has yet to learn anything about the enviornment. \r\n",
        "\r\n",
        "Our agent learns by exploring the enviornment and observing the outcome/reward from each action it takes in each state. But how does it know what action to take in each state? There are two ways that our agent can decide on which action to take.\r\n",
        "1. Randomly picking a valid action\r\n",
        "2. Using the current Q-Table to find the best action.\r\n",
        "\r\n",
        "Near the beginning of our agents learning it will mostly take random actions in order to explore the enviornment and enter many different states. As it starts to explore more of the enviornment it will start to gradually rely more on it's learned values (Q-Table) to take actions. This means that as our agent explores more of the enviornment it will develop a better understanding and start to take \"correct\" or better actions more often. It's important that the agent has a good balance of taking random actions and using learned values to ensure it does get trapped in a local maximum. \r\n",
        "\r\n",
        "After each new action our agent wil record the new state (if any) that it has entered and the reward that it recieved from taking that action. These values will be used to update the Q-Table. The agent will stop taking new actions only once a certain time limit is reached or it has acheived the goal or reached the end of the enviornment. \r\n",
        "\r\n",
        "####Updating Q-Values\r\n",
        "The formula for updating the Q-Table after each action is as follows:\r\n",
        "> $ Q[state, action] = Q[state, action] + \\alpha * (reward + \\gamma * max(Q[newState, :]) - Q[state, action]) $\r\n",
        "\r\n",
        "- $\\alpha$ stands for the **Learning Rate**\r\n",
        "\r\n",
        "- $\\gamma$ stands for the **Discount Factor**\r\n",
        "\r\n",
        "####Learning Rate $\\alpha$\r\n",
        "The learning rate $\\alpha$ is a numeric constant that defines how much change is permitted on each QTable update. A high learning rate means that each update will introduce a large change to the current state-action value. A small learning rate means that each update has a more subtle change. Modifying the learning rate will change how the agent explores the enviornment and how quickly it determines the final values in the QTable.\r\n",
        "\r\n",
        "####Discount Factor $\\gamma$\r\n",
        "Discount factor also know as gamma ($\\gamma$) is used to balance how much focus is put on the current and future reward. A high discount factor means that future rewards will be considered more heavily.\r\n",
        "\r\n",
        "<br/>\r\n",
        "<p>To perform updates on this table we will let the agent explpore the enviornment for a certain period of time and use each of its actions to make an update. Slowly we should start to notice the agent learning and choosing better actions. </p>"
      ]
    },
    {
      "cell_type": "markdown",
      "metadata": {
        "id": "veGJAsMTrTyx"
      },
      "source": [
        "##Q-Learning Example\r\n",
        "For this example we will use the Q-Learning algorithm to train an agent to navigate a popular enviornment from the [Open AI Gym](https://gym.openai.com/). The Open AI Gym was developed so programmers could practice machine learning using unique enviornments. Intersting fact, Elon Musk is one of the founders of OpenAI!\r\n",
        "\r\n",
        "Let's start by looking at what Open AI Gym is. "
      ]
    },
    {
      "cell_type": "code",
      "metadata": {
        "id": "wwNZJAxUrV39"
      },
      "source": [
        "import gym"
      ],
      "execution_count": 1,
      "outputs": []
    },
    {
      "cell_type": "markdown",
      "metadata": {
        "id": "O8RCs7a2wsoU"
      },
      "source": [
        "Once you import gym you can load an environment using the line *gym.make(\"environment\").*"
      ]
    },
    {
      "cell_type": "code",
      "metadata": {
        "id": "ulvcUvezw4MA"
      },
      "source": [
        "env = gym.make('FrozenLake-v0') # we are going to use the FrozenLake environment"
      ],
      "execution_count": 2,
      "outputs": []
    },
    {
      "cell_type": "markdown",
      "metadata": {
        "id": "G3T4luRzxNA_"
      },
      "source": [
        "There are a few other commands that can be used to interact and get information about the enviornment."
      ]
    },
    {
      "cell_type": "code",
      "metadata": {
        "colab": {
          "base_uri": "https://localhost:8080/"
        },
        "id": "wgnI-nrhxO-x",
        "outputId": "2df1b66e-fd2b-489d-eaee-3d5a6a214e22"
      },
      "source": [
        "print(env.observation_space.n)   # get number of states\r\n",
        "print(env.action_space.n)   # get number of actions"
      ],
      "execution_count": 3,
      "outputs": [
        {
          "output_type": "stream",
          "text": [
            "16\n",
            "4\n"
          ],
          "name": "stdout"
        }
      ]
    },
    {
      "cell_type": "code",
      "metadata": {
        "colab": {
          "base_uri": "https://localhost:8080/"
        },
        "id": "OgY7-z3dxgbm",
        "outputId": "f2a54d60-3fc3-4a2d-c1a8-9b3169703ba9"
      },
      "source": [
        "env.reset() # reset to default state"
      ],
      "execution_count": 4,
      "outputs": [
        {
          "output_type": "execute_result",
          "data": {
            "text/plain": [
              "0"
            ]
          },
          "metadata": {
            "tags": []
          },
          "execution_count": 4
        }
      ]
    },
    {
      "cell_type": "code",
      "metadata": {
        "colab": {
          "base_uri": "https://localhost:8080/"
        },
        "id": "LV1e_QjWxnrb",
        "outputId": "1deffb52-3ca0-40f5-e54c-a046f408fd37"
      },
      "source": [
        "action = env.action_space.sample() # get a random action\r\n",
        "print(action)"
      ],
      "execution_count": 8,
      "outputs": [
        {
          "output_type": "stream",
          "text": [
            "3\n"
          ],
          "name": "stdout"
        }
      ]
    },
    {
      "cell_type": "code",
      "metadata": {
        "id": "uRql16Bjx0YL"
      },
      "source": [
        "new_state, reward, done, info = env.step(action) # take action, notice it returns information about the action. If done true, reset (won or lost)"
      ],
      "execution_count": 10,
      "outputs": []
    },
    {
      "cell_type": "code",
      "metadata": {
        "colab": {
          "base_uri": "https://localhost:8080/"
        },
        "id": "_q0QmjskyCr7",
        "outputId": "498bce6c-5c3d-4912-809e-245952c98314"
      },
      "source": [
        "env.render() # render the GUI for the environment"
      ],
      "execution_count": 11,
      "outputs": [
        {
          "output_type": "stream",
          "text": [
            "  (Up)\n",
            "\u001b[41mS\u001b[0mFFF\n",
            "FHFH\n",
            "FFFH\n",
            "HFFG\n"
          ],
          "name": "stdout"
        }
      ]
    },
    {
      "cell_type": "markdown",
      "metadata": {
        "id": "8NeruoRwygnP"
      },
      "source": [
        "###Frozen Lake Enviornment\r\n",
        "Now that we have a basic understanding of how the gym enviornment works it's time to discuss the specific problem we will be solving.\r\n",
        "\r\n",
        "The enviornment we loaded above ```FrozenLake-v0``` is one of the simplest enviornments in Open AI Gym. The goal of the agent is to navigate a frozen lake and find the Goal without falling through the ice (render the enviornment above to see an example).\r\n",
        "\r\n",
        "There are:\r\n",
        "- 16 states (one for each square) \r\n",
        "- 4 possible actions (LEFT, RIGHT, DOWN, UP)\r\n",
        "- 4 different types of blocks (F: frozen, H: hole, S: start, G: goal)"
      ]
    },
    {
      "cell_type": "markdown",
      "metadata": {
        "id": "YOXK0iKwyjuH"
      },
      "source": [
        "###Building the Q-Table\r\n",
        "The first thing we need to do is build an empty Q-Table that we can use to store and update our values."
      ]
    },
    {
      "cell_type": "code",
      "metadata": {
        "id": "7wlni9MnykD7"
      },
      "source": [
        "import gym\r\n",
        "import numpy as np\r\n",
        "import time\r\n",
        "\r\n",
        "env = gym.make('FrozenLake-v0')\r\n",
        "STATES = env.observation_space.n\r\n",
        "ACTIONS = env.action_space.n"
      ],
      "execution_count": 12,
      "outputs": []
    },
    {
      "cell_type": "code",
      "metadata": {
        "colab": {
          "base_uri": "https://localhost:8080/"
        },
        "id": "Wi78cYLbyo0L",
        "outputId": "020f2cf6-69ca-495a-b291-4d6fb0589542"
      },
      "source": [
        "Q = np.zeros((STATES, ACTIONS))\r\n",
        "Q"
      ],
      "execution_count": 14,
      "outputs": [
        {
          "output_type": "execute_result",
          "data": {
            "text/plain": [
              "array([[0., 0., 0., 0.],\n",
              "       [0., 0., 0., 0.],\n",
              "       [0., 0., 0., 0.],\n",
              "       [0., 0., 0., 0.],\n",
              "       [0., 0., 0., 0.],\n",
              "       [0., 0., 0., 0.],\n",
              "       [0., 0., 0., 0.],\n",
              "       [0., 0., 0., 0.],\n",
              "       [0., 0., 0., 0.],\n",
              "       [0., 0., 0., 0.],\n",
              "       [0., 0., 0., 0.],\n",
              "       [0., 0., 0., 0.],\n",
              "       [0., 0., 0., 0.],\n",
              "       [0., 0., 0., 0.],\n",
              "       [0., 0., 0., 0.],\n",
              "       [0., 0., 0., 0.]])"
            ]
          },
          "metadata": {
            "tags": []
          },
          "execution_count": 14
        }
      ]
    },
    {
      "cell_type": "markdown",
      "metadata": {
        "id": "rguzKcu0y4ym"
      },
      "source": [
        "###Constants\r\n",
        "As we discussed we need to define some constants that will be used to update our Q-Table and tell our agent when to stop training."
      ]
    },
    {
      "cell_type": "code",
      "metadata": {
        "id": "WumzXcviy5Gl"
      },
      "source": [
        "EPISODES = 10000 # how many times to run the environment from the beginning\r\n",
        "MAX_STEPS = 100 # max number of steps allowed for each run of environment\r\n",
        "\r\n",
        "LEARNING_RATE = 0.81\r\n",
        "GAMMA = 0.96"
      ],
      "execution_count": 16,
      "outputs": []
    },
    {
      "cell_type": "markdown",
      "metadata": {
        "id": "zrszotbczMCJ"
      },
      "source": [
        "###Picking an Action\r\n",
        "Remember that we can pick an action using one of two methods:\r\n",
        "1. Randomly picking a valid action\r\n",
        "2. Using the current Q-Table to find the best action.\r\n",
        "\r\n",
        "Here we will define a new value $\\epsilon$ that will tell us the probabillity of selecting a random action. This value will start off very high and slowly decrease as the agent learns more about the enviornment."
      ]
    },
    {
      "cell_type": "code",
      "metadata": {
        "id": "KQIRDGFqzPZo"
      },
      "source": [
        "epsilon = 0.9 # start with a 90% chance of picking a random action\r\n",
        "\r\n",
        "# code to pick action\r\n",
        "if np.random.uniform(0,1) < epsilon:\r\n",
        "  action = env.action_space.sample() # take random action\r\n",
        "else:\r\n",
        "  action = np.argmax(Q[state, :]) # use Q table to pick best action based on current values"
      ],
      "execution_count": 17,
      "outputs": []
    },
    {
      "cell_type": "markdown",
      "metadata": {
        "id": "TNA7qJIlz7Gl"
      },
      "source": [
        "###Updating Q Values\r\n",
        "The code below implements the formula discussed above."
      ]
    },
    {
      "cell_type": "code",
      "metadata": {
        "id": "k-kNR4Isz88c"
      },
      "source": [
        "Q[state, action] = Q[state, action] + LEARNING_RATE * (reward + GAMMA * np.max(Q[new_state, :]) - Q[state, action])\r\n"
      ],
      "execution_count": 20,
      "outputs": []
    },
    {
      "cell_type": "markdown",
      "metadata": {
        "id": "a81ExV0n0rmH"
      },
      "source": [
        "Now that we know how to do some basic things we can combine these together to create our Q-Learning algorithm."
      ]
    },
    {
      "cell_type": "code",
      "metadata": {
        "id": "OrUrMmWK0sm_"
      },
      "source": [
        "import gym\r\n",
        "import numpy as np\r\n",
        "import time\r\n",
        "\r\n",
        "env = gym.make('FrozenLake-v0')\r\n",
        "STATES = env.observation_space.n\r\n",
        "ACTIONS = env.action_space.n\r\n",
        "\r\n",
        "Q = np.zeros((STATES, ACTIONS))\r\n",
        "\r\n",
        "EPISODES = 50000 # how many times to run the enviornment from the beginning\r\n",
        "MAX_STEPS = 100  # max number of steps allowed for each run of enviornment\r\n",
        "\r\n",
        "LEARNING_RATE = 0.81  # learning rate\r\n",
        "GAMMA = 0.96\r\n",
        "\r\n",
        "RENDER = False # if you want to see training set to true\r\n",
        "\r\n",
        "epsilon = 0.9"
      ],
      "execution_count": 24,
      "outputs": []
    },
    {
      "cell_type": "code",
      "metadata": {
        "colab": {
          "base_uri": "https://localhost:8080/"
        },
        "id": "PMfuwcMe05yP",
        "outputId": "b4897731-e4cd-421d-b0ac-83700a14b312"
      },
      "source": [
        "rewards = []\r\n",
        "for episode in range(EPISODES):\r\n",
        "\r\n",
        "  state = env.reset()\r\n",
        "  for _ in range(MAX_STEPS):\r\n",
        "    \r\n",
        "    if RENDER:\r\n",
        "      env.render()\r\n",
        "\r\n",
        "    if np.random.uniform(0, 1) < epsilon:\r\n",
        "      action = env.action_space.sample()  \r\n",
        "    else:\r\n",
        "      action = np.argmax(Q[state, :])\r\n",
        "\r\n",
        "    next_state, reward, done, _ = env.step(action)\r\n",
        "\r\n",
        "    Q[state, action] = Q[state, action] + LEARNING_RATE * (reward + GAMMA * np.max(Q[next_state, :]) - Q[state, action])\r\n",
        "\r\n",
        "    state = next_state\r\n",
        "\r\n",
        "    if done: \r\n",
        "      rewards.append(reward)\r\n",
        "      epsilon -= 0.001\r\n",
        "      break  # reached goal\r\n",
        "\r\n",
        "print(Q)\r\n",
        "print(f\"Average reward: {sum(rewards)/len(rewards)}:\")\r\n",
        "# and now we can see our Q values!"
      ],
      "execution_count": 25,
      "outputs": [
        {
          "output_type": "stream",
          "text": [
            "[[2.07970779e-01 8.20914853e-04 7.82599969e-04 9.28805040e-04]\n",
            " [2.13214372e-04 1.51900265e-04 4.26644107e-04 3.12531843e-01]\n",
            " [1.53834103e-01 3.40253833e-04 7.08280223e-04 7.04579888e-04]\n",
            " [5.44672507e-04 3.76435708e-04 2.56567525e-04 6.89808539e-04]\n",
            " [2.90067940e-01 2.84629466e-04 2.26325228e-04 3.07416958e-04]\n",
            " [0.00000000e+00 0.00000000e+00 0.00000000e+00 0.00000000e+00]\n",
            " [1.81209655e-07 6.00909299e-08 2.26246785e-01 1.64769373e-07]\n",
            " [0.00000000e+00 0.00000000e+00 0.00000000e+00 0.00000000e+00]\n",
            " [5.45051987e-04 3.58174209e-04 1.71354450e-04 3.57433684e-01]\n",
            " [2.01088454e-04 3.91413552e-01 1.66337900e-04 4.69336489e-04]\n",
            " [4.08092764e-01 3.18494591e-05 4.03997620e-05 1.30058672e-05]\n",
            " [0.00000000e+00 0.00000000e+00 0.00000000e+00 0.00000000e+00]\n",
            " [0.00000000e+00 0.00000000e+00 0.00000000e+00 0.00000000e+00]\n",
            " [1.44470132e-02 2.39538051e-02 5.74524977e-01 2.26406945e-02]\n",
            " [8.11855090e-02 8.10670256e-01 7.81406478e-02 8.48537027e-02]\n",
            " [0.00000000e+00 0.00000000e+00 0.00000000e+00 0.00000000e+00]]\n",
            "Average reward: 0.713:\n"
          ],
          "name": "stdout"
        }
      ]
    },
    {
      "cell_type": "code",
      "metadata": {
        "colab": {
          "base_uri": "https://localhost:8080/",
          "height": 279
        },
        "id": "aEK3Hx751VnH",
        "outputId": "8546e924-c5b0-483c-899a-419a458d41d9"
      },
      "source": [
        "# we can plot the training progress and see how the agent improved\r\n",
        "import matplotlib.pyplot as plt\r\n",
        "\r\n",
        "def get_average(values):\r\n",
        "  return sum(values)/len(values)\r\n",
        "\r\n",
        "avg_rewards = []\r\n",
        "for i in range(0, len(rewards), 100):\r\n",
        "  avg_rewards.append(get_average(rewards[i:i+100])) \r\n",
        "\r\n",
        "plt.plot(avg_rewards)\r\n",
        "plt.ylabel('average reward')\r\n",
        "plt.xlabel('episodes (100\\'s)')\r\n",
        "plt.show()"
      ],
      "execution_count": 26,
      "outputs": [
        {
          "output_type": "display_data",
          "data": {
            "image/png": "[encoded data removed]",
            "text/plain": [
              "<Figure size 432x288 with 1 Axes>"
            ]
          },
          "metadata": {
            "tags": [],
            "needs_background": "light"
          }
        }
      ]
    },
    {
      "cell_type": "markdown",
      "metadata": {
        "id": "Zc8raD3r11Ev"
      },
      "source": [
        "##Sources\r\n",
        "1. Violante, Andre. “Simple Reinforcement Learning: Q-Learning.” Medium, Towards Data Science, 1 July 2019, https://towardsdatascience.com/simple-reinforcement-learning-q-learning-fcddc4b6fe56.\r\n",
        "\r\n",
        "2. Openai. “Openai/Gym.” GitHub, https://github.com/openai/gym/wiki/FrozenLake-v0."
      ]
    }
  ]
}