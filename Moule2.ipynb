{
  "nbformat": 4,
  "nbformat_minor": 0,
  "metadata": {
    "colab": {
      "name": "Moule2.ipynb",
      "provenance": [],
      "authorship_tag": "ABX9TyMHAH1ONS07VnvxlmKY8tqP",
      "include_colab_link": true
    },
    "kernelspec": {
      "name": "python3",
      "display_name": "Python 3"
    }
  },
  "cells": [
    {
      "cell_type": "markdown",
      "metadata": {
        "id": "view-in-github",
        "colab_type": "text"
      },
      "source": [
        "<a href=\"https://colab.research.google.com/github/AndreaCastiella/Tensorflow2.0-Course-freeCodeCamp/blob/main/Moule2.ipynb\" target=\"_parent\"><img src=\"https://colab.research.google.com/assets/colab-badge.svg\" alt=\"Open In Colab\"/></a>"
      ]
    },
    {
      "cell_type": "markdown",
      "metadata": {
        "id": "GvZ5T_KiMn0s"
      },
      "source": [
        "# Tensorflow 2.0 Complete Course freeCodeCamp"
      ]
    },
    {
      "cell_type": "markdown",
      "metadata": {
        "id": "EFAGmMmNWy3M"
      },
      "source": [
        "Module 1 was just an introduction.\r\n"
      ]
    },
    {
      "cell_type": "markdown",
      "metadata": {
        "id": "a1r9HCMMZn_T"
      },
      "source": [
        "# Importing Tensorflow in Google Colab"
      ]
    },
    {
      "cell_type": "code",
      "metadata": {
        "colab": {
          "base_uri": "https://localhost:8080/"
        },
        "id": "5RLy0i-IZO7m",
        "outputId": "c435ad21-fd61-41d6-bb5a-fe0f2cd52c4a"
      },
      "source": [
        "%tensorflow_version 2.x\r\n",
        "import tensorflow as tf\r\n",
        "print(tf.version)"
      ],
      "execution_count": 1,
      "outputs": [
        {
          "output_type": "stream",
          "text": [
            "<module 'tensorflow._api.v2.version' from '/usr/local/lib/python3.6/dist-packages/tensorflow/_api/v2/version/__init__.py'>\n"
          ],
          "name": "stdout"
        }
      ]
    }
  ]
}