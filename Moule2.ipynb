{
  "nbformat": 4,
  "nbformat_minor": 0,
  "metadata": {
    "colab": {
      "name": "Moule2.ipynb",
      "provenance": [],
      "authorship_tag": "ABX9TyNpNPWCD0aS0q4ngRijtJNF",
      "include_colab_link": true
    },
    "kernelspec": {
      "name": "python3",
      "display_name": "Python 3"
    }
  },
  "cells": [
    {
      "cell_type": "markdown",
      "metadata": {
        "id": "view-in-github",
        "colab_type": "text"
      },
      "source": [
        "<a href=\"https://colab.research.google.com/github/AndreaCastiella/Tensorflow2.0-Course-freeCodeCamp/blob/main/Moule2.ipynb\" target=\"_parent\"><img src=\"https://colab.research.google.com/assets/colab-badge.svg\" alt=\"Open In Colab\"/></a>"
      ]
    },
    {
      "cell_type": "markdown",
      "metadata": {
        "id": "GvZ5T_KiMn0s"
      },
      "source": [
        "# Tensorflow 2.0 Complete Course freeCodeCamp"
      ]
    },
    {
      "cell_type": "markdown",
      "metadata": {
        "id": "EFAGmMmNWy3M"
      },
      "source": [
        "Module 1 was just an introduction.\r\n"
      ]
    },
    {
      "cell_type": "markdown",
      "metadata": {
        "id": "a1r9HCMMZn_T"
      },
      "source": [
        "# Importing Tensorflow in Google Colab"
      ]
    },
    {
      "cell_type": "code",
      "metadata": {
        "colab": {
          "base_uri": "https://localhost:8080/"
        },
        "id": "5RLy0i-IZO7m",
        "outputId": "c435ad21-fd61-41d6-bb5a-fe0f2cd52c4a"
      },
      "source": [
        "%tensorflow_version 2.x\r\n",
        "import tensorflow as tf\r\n",
        "print(tf.version)"
      ],
      "execution_count": 1,
      "outputs": [
        {
          "output_type": "stream",
          "text": [
            "<module 'tensorflow._api.v2.version' from '/usr/local/lib/python3.6/dist-packages/tensorflow/_api/v2/version/__init__.py'>\n"
          ],
          "name": "stdout"
        }
      ]
    },
    {
      "cell_type": "markdown",
      "metadata": {
        "id": "c3iA4Bz3b5zo"
      },
      "source": [
        "## Creating Tensors"
      ]
    },
    {
      "cell_type": "code",
      "metadata": {
        "id": "8_VYG_8Db9Nr"
      },
      "source": [
        "string =tf.Variable('This is a string', tf.string)\r\n",
        "number = tf.Variable(128, tf.int16)\r\n",
        "floating = tf.Variable(2.123, tf.float32)"
      ],
      "execution_count": 4,
      "outputs": []
    },
    {
      "cell_type": "markdown",
      "metadata": {
        "id": "Nb70DNwwcRoA"
      },
      "source": [
        "## Rank/Degree Tensors"
      ]
    },
    {
      "cell_type": "code",
      "metadata": {
        "id": "Sc4QEGrRcUFy"
      },
      "source": [
        "rank1_tensor = tf.Variable(['Test', 'Ok'], tf.string)\r\n",
        "rank2_tensor = tf.Variable([['Test', 'Ok'], ['Test2', 'Nok']], tf.string)"
      ],
      "execution_count": 2,
      "outputs": []
    },
    {
      "cell_type": "markdown",
      "metadata": {
        "id": "LDGgg-C3csSO"
      },
      "source": [
        "###### To determine the rank of a tensor we can call the following method"
      ]
    },
    {
      "cell_type": "code",
      "metadata": {
        "colab": {
          "base_uri": "https://localhost:8080/"
        },
        "id": "gn-BeBuRcy9R",
        "outputId": "dd6a8788-bd68-4295-99ab-d83b937fcb1f"
      },
      "source": [
        "tf.rank(number)"
      ],
      "execution_count": 5,
      "outputs": [
        {
          "output_type": "execute_result",
          "data": {
            "text/plain": [
              "<tf.Tensor: shape=(), dtype=int32, numpy=0>"
            ]
          },
          "metadata": {
            "tags": []
          },
          "execution_count": 5
        }
      ]
    },
    {
      "cell_type": "markdown",
      "metadata": {
        "id": "kElbQiVpdFIm"
      },
      "source": [
        "## Shape of Tensors\r\n"
      ]
    },
    {
      "cell_type": "code",
      "metadata": {
        "colab": {
          "base_uri": "https://localhost:8080/"
        },
        "id": "4uIC2rmpdHyh",
        "outputId": "626616f9-dd73-4051-8e7d-be783485efbe"
      },
      "source": [
        "rank2_tensor.shape"
      ],
      "execution_count": 6,
      "outputs": [
        {
          "output_type": "execute_result",
          "data": {
            "text/plain": [
              "TensorShape([2, 2])"
            ]
          },
          "metadata": {
            "tags": []
          },
          "execution_count": 6
        }
      ]
    },
    {
      "cell_type": "markdown",
      "metadata": {
        "id": "JMeBo7NFdRJA"
      },
      "source": [
        "## Changing Shape"
      ]
    },
    {
      "cell_type": "code",
      "metadata": {
        "colab": {
          "base_uri": "https://localhost:8080/"
        },
        "id": "TTc-FTtndTw0",
        "outputId": "8cb6ab24-348a-44f1-96c1-a7d31258aa6a"
      },
      "source": [
        "tensor1 = tf.ones([1,2,3])\r\n",
        "print(tensor1)\r\n",
        "tensor2 = tf.reshape(tensor1, [2,3,1])\r\n",
        "print(tensor2)\r\n",
        "tensor3 = tf.reshape(tensor2, [3, -1]) # -1 tells the tensor to calculate the size of the diemnsion in that place.\r\n",
        "print(tensor3)"
      ],
      "execution_count": 11,
      "outputs": [
        {
          "output_type": "stream",
          "text": [
            "tf.Tensor(\n",
            "[[[1. 1. 1.]\n",
            "  [1. 1. 1.]]], shape=(1, 2, 3), dtype=float32)\n",
            "tf.Tensor(\n",
            "[[[1.]\n",
            "  [1.]\n",
            "  [1.]]\n",
            "\n",
            " [[1.]\n",
            "  [1.]\n",
            "  [1.]]], shape=(2, 3, 1), dtype=float32)\n",
            "tf.Tensor(\n",
            "[[1. 1.]\n",
            " [1. 1.]\n",
            " [1. 1.]], shape=(3, 2), dtype=float32)\n"
          ],
          "name": "stdout"
        }
      ]
    }
  ]
}