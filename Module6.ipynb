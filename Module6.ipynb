{
  "nbformat": 4,
  "nbformat_minor": 0,
  "metadata": {
    "colab": {
      "name": "Module6.ipynb",
      "provenance": [],
      "collapsed_sections": [],
      "authorship_tag": "ABX9TyPxxOfCJ9xTW/ksiM+w8GpG",
      "include_colab_link": true
    },
    "kernelspec": {
      "name": "python3",
      "display_name": "Python 3"
    },
    "accelerator": "GPU"
  },
  "cells": [
    {
      "cell_type": "markdown",
      "metadata": {
        "id": "view-in-github",
        "colab_type": "text"
      },
      "source": [
        "<a href=\"https://colab.research.google.com/github/AndreaCastiella/Tensorflow2.0-Course-freeCodeCamp/blob/main/Module6.ipynb\" target=\"_parent\"><img src=\"https://colab.research.google.com/assets/colab-badge.svg\" alt=\"Open In Colab\"/></a>"
      ]
    },
    {
      "cell_type": "markdown",
      "metadata": {
        "id": "SjWAIrK4YoKo"
      },
      "source": [
        "# Module 6"
      ]
    },
    {
      "cell_type": "markdown",
      "metadata": {
        "id": "i_J9vPtTYqAA"
      },
      "source": [
        "#Natural Language Processing with RNNs"
      ]
    },
    {
      "cell_type": "markdown",
      "metadata": {
        "id": "9rU0GYmPYxo-"
      },
      "source": [
        "#Natural Language Processing \r\n",
        "Natural Language Processing (or NLP for short) is a discipline in computing that deals with the communication between natural (human) languages and computer languages. A common example of NLP is something like spellcheck or autocomplete. Essentially NLP is the field that focuses on how computers can understand and/or process natural/human languages. \r\n",
        "\r\n",
        "###Recurrent Neural Networks\r\n",
        "\r\n",
        "In this tutorial we will introduce a new kind of neural network that is much more capable of processing sequential data such as text or characters called a **recurrent neural network** (RNN for short). \r\n",
        "\r\n",
        "We will learn how to use a reccurent neural network to do the following:\r\n",
        "- Sentiment Analysis\r\n",
        "- Character Generation \r\n",
        "\r\n",
        "RNN's are complex and come in many different forms so in this tutorial we wil focus on how they work and the kind of problems they are best suited for."
      ]
    },
    {
      "cell_type": "markdown",
      "metadata": {
        "id": "WcCDu01igort"
      },
      "source": [
        "## Sequence Data\r\n",
        "In the previous tutorials we focused on data that we could represent as one static data point where the notion of time or step was irrelevant. Take for example our image data, it was simply a tensor of shape (width, height, channels). That data doesn't change or care about the notion of time. \r\n",
        "\r\n",
        "In this tutorial we will look at sequences of text and learn how we can encode them in a meaningful way. Unlike images, sequence data such as long chains of text, weather patterns, videos and really anything where the notion of a step or time is relevant needs to be processed and handled in a special way. \r\n",
        "\r\n",
        "But what do I mean by sequences and why is text data a sequence? Well that's a good question. Since textual data contains many words that follow in a very specific and meaningful order, we need to be able to keep track of each word and when it occurs in the data. Simply encoding say an entire paragraph of text into one data point wouldn't give us a very meaningful picture of the data and would be very difficult to do anything with. This is why we treat text as a sequence and process one word at a time. We will keep track of where each of these words appear and use that information to try to understand the meaning of peices of text."
      ]
    },
    {
      "cell_type": "markdown",
      "metadata": {
        "id": "bZhkPQ5BguNv"
      },
      "source": [
        "##Encoding Text\r\n",
        "As we know machine learning models and neural networks don't take raw text data as an input. This means we must somehow encode our textual data to numeric values that our models can understand. There are many different ways of doing this and we will look at a few examples below. \r\n",
        "\r\n",
        "Before we get into the different encoding/preprocessing methods let's understand the information we can get from textual data by looking at the following two movie reviews.\r\n",
        "\r\n",
        "```I thought the movie was going to be bad, but it was actually amazing!```\r\n",
        "\r\n",
        "```I thought the movie was going to be amazing, but it was actually bad!```\r\n",
        "\r\n",
        "Although these two setences are very similar we know that they have very different meanings. This is because of the **ordering** of words, a very important property of textual data.\r\n",
        "\r\n",
        "Now keep that in mind while we consider some different ways of encoding our textual data.\r\n",
        "\r\n",
        "###Bag of Words\r\n",
        "The first and simplest way to encode our data is to use something called **bag of words**. This is a pretty easy technique where each word in a sentence is encoded with an integer and thrown into a collection that does not maintain the order of the words but does keep track of the frequency. Have a look at the python function below that encodes a string of text into bag of words. "
      ]
    },
    {
      "cell_type": "code",
      "metadata": {
        "colab": {
          "base_uri": "https://localhost:8080/"
        },
        "id": "cZjaV9mkgwhQ",
        "outputId": "800670cf-f7df-47c6-9d56-3e199d4fc481"
      },
      "source": [
        "vocab = {}  # maps word to integer representing it\r\n",
        "word_encoding = 1\r\n",
        "def bag_of_words(text):\r\n",
        "  global word_encoding\r\n",
        "\r\n",
        "  words = text.lower().split(\" \")  # create a list of all of the words in the text, well assume there is no grammar in our text for this example\r\n",
        "  bag = {}  # stores all of the encodings and their frequency\r\n",
        "\r\n",
        "  for word in words:\r\n",
        "    if word in vocab:\r\n",
        "      encoding = vocab[word]  # get encoding from vocab\r\n",
        "    else:\r\n",
        "      vocab[word] = word_encoding\r\n",
        "      encoding = word_encoding\r\n",
        "      word_encoding += 1\r\n",
        "    \r\n",
        "    if encoding in bag:\r\n",
        "      bag[encoding] += 1\r\n",
        "    else:\r\n",
        "      bag[encoding] = 1\r\n",
        "  \r\n",
        "  return bag\r\n",
        "\r\n",
        "text = \"this is a test to see if this test will work is is test a a\"\r\n",
        "bag = bag_of_words(text)\r\n",
        "print(bag)\r\n",
        "print(vocab)"
      ],
      "execution_count": 1,
      "outputs": [
        {
          "output_type": "stream",
          "text": [
            "{1: 2, 2: 3, 3: 3, 4: 3, 5: 1, 6: 1, 7: 1, 8: 1, 9: 1}\n",
            "{'this': 1, 'is': 2, 'a': 3, 'test': 4, 'to': 5, 'see': 6, 'if': 7, 'will': 8, 'work': 9}\n"
          ],
          "name": "stdout"
        }
      ]
    },
    {
      "cell_type": "markdown",
      "metadata": {
        "id": "AkTOfaJkkVSE"
      },
      "source": [
        "This isn't really the way we would do this in practice, but I hope it gives you an idea of how bag of words works. Notice that we've lost the order in which words appear. In fact, let's look at how this encoding works for the two sentences we showed above.\r\n",
        "\r\n"
      ]
    },
    {
      "cell_type": "code",
      "metadata": {
        "colab": {
          "base_uri": "https://localhost:8080/"
        },
        "id": "B1v2_EEEkVsJ",
        "outputId": "dfce47b1-1981-4e14-d176-8a7ee36abd32"
      },
      "source": [
        "positive_review = \"I thought the movie was going to be bad but it was actually amazing\"\r\n",
        "negative_review = \"I thought the movie was going to be amazing but it was actually bad\"\r\n",
        "\r\n",
        "pos_bag = bag_of_words(positive_review)\r\n",
        "neg_bag = bag_of_words(negative_review)\r\n",
        "\r\n",
        "print(\"Positive:\", pos_bag)\r\n",
        "print(\"Negative:\", neg_bag)"
      ],
      "execution_count": 2,
      "outputs": [
        {
          "output_type": "stream",
          "text": [
            "Positive: {10: 1, 11: 1, 12: 1, 13: 1, 14: 2, 15: 1, 5: 1, 16: 1, 17: 1, 18: 1, 19: 1, 20: 1, 21: 1}\n",
            "Negative: {10: 1, 11: 1, 12: 1, 13: 1, 14: 2, 15: 1, 5: 1, 16: 1, 21: 1, 18: 1, 19: 1, 20: 1, 17: 1}\n"
          ],
          "name": "stdout"
        }
      ]
    },
    {
      "cell_type": "markdown",
      "metadata": {
        "id": "OvGquVAPlKOz"
      },
      "source": [
        "We can see that even though these sentences have a very different meaning they are encoded exaclty the same way. Obviously, this isn't going to fly. Let's look at some other methods.\r\n"
      ]
    },
    {
      "cell_type": "markdown",
      "metadata": {
        "id": "cIkPErdzlKs2"
      },
      "source": [
        "###Integer Encoding\r\n",
        "The next technique we will look at is called **integer encoding**. This involves representing each word or character in a sentence as a unique integer and maintaining the order of these words. This should hopefully fix the problem we saw before were we lost the order of words.\r\n"
      ]
    },
    {
      "cell_type": "code",
      "metadata": {
        "colab": {
          "base_uri": "https://localhost:8080/"
        },
        "id": "ygc4B3xylMoQ",
        "outputId": "8b2a8a59-778b-42f7-e29f-466b7325cde4"
      },
      "source": [
        "vocab = {}  \r\n",
        "word_encoding = 1\r\n",
        "def one_hot_encoding(text):\r\n",
        "  global word_encoding\r\n",
        "\r\n",
        "  words = text.lower().split(\" \") \r\n",
        "  encoding = []  \r\n",
        "\r\n",
        "  for word in words:\r\n",
        "    if word in vocab:\r\n",
        "      code = vocab[word]  \r\n",
        "      encoding.append(code) \r\n",
        "    else:\r\n",
        "      vocab[word] = word_encoding\r\n",
        "      encoding.append(word_encoding)\r\n",
        "      word_encoding += 1\r\n",
        "  \r\n",
        "  return encoding\r\n",
        "\r\n",
        "text = \"this is a test to see if this test will work is is test a a\"\r\n",
        "encoding = one_hot_encoding(text)\r\n",
        "print(encoding)\r\n",
        "print(vocab)"
      ],
      "execution_count": 3,
      "outputs": [
        {
          "output_type": "stream",
          "text": [
            "[1, 2, 3, 4, 5, 6, 7, 1, 4, 8, 9, 2, 2, 4, 3, 3]\n",
            "{'this': 1, 'is': 2, 'a': 3, 'test': 4, 'to': 5, 'see': 6, 'if': 7, 'will': 8, 'work': 9}\n"
          ],
          "name": "stdout"
        }
      ]
    },
    {
      "cell_type": "markdown",
      "metadata": {
        "id": "jIDdBHsFlzHL"
      },
      "source": [
        "And now let's have a look at one hot encoding on our movie reviews."
      ]
    },
    {
      "cell_type": "code",
      "metadata": {
        "colab": {
          "base_uri": "https://localhost:8080/"
        },
        "id": "VBGFElqql6Tt",
        "outputId": "56e20ca7-4388-4497-9e41-cef4613b695b"
      },
      "source": [
        "positive_review = \"I thought the movie was going to be bad but it was actually amazing\"\r\n",
        "negative_review = \"I thought the movie was going to be amazing but it was actually bad\"\r\n",
        "\r\n",
        "pos_encode = one_hot_encoding(positive_review)\r\n",
        "neg_encode = one_hot_encoding(negative_review)\r\n",
        "\r\n",
        "print(\"Positive:\", pos_encode)\r\n",
        "print(\"Negative:\", neg_encode)"
      ],
      "execution_count": 4,
      "outputs": [
        {
          "output_type": "stream",
          "text": [
            "Positive: [10, 11, 12, 13, 14, 15, 5, 16, 17, 18, 19, 14, 20, 21]\n",
            "Negative: [10, 11, 12, 13, 14, 15, 5, 16, 21, 18, 19, 14, 20, 17]\n"
          ],
          "name": "stdout"
        }
      ]
    },
    {
      "cell_type": "markdown",
      "metadata": {
        "id": "3Jk2hGIel3JQ"
      },
      "source": [
        "Much better, now we are keeping track of the order of words and we can tell where each occurs. But this still has a few issues with it. Ideally when we encode words, we would like similar words to have similar labels and different words to have very different labels. For example, the words happy and joyful should probably have very similar labels so we can determine that they are similar. While words like horrible and amazing should probably have very different labels. The method we looked at above won't be able to do something like this for us. This could mean that the model will have a very difficult time determing if two words are similar or not which could result in some pretty drastic performace impacts."
      ]
    },
    {
      "cell_type": "markdown",
      "metadata": {
        "id": "QOaym6OQmPLd"
      },
      "source": [
        "###Word Embeddings\r\n",
        "Luckily there is a third method that is far superior, **word embeddings**. This method keeps the order of words intact as well as encodes similar words with very similar labels. It attempts to not only encode the frequency and order of words but the meaning of those words in the sentence. It encodes each word as a dense vector that represents its context in the sentence.\r\n",
        "\r\n",
        "Unlike the previous techniques word embeddings are learned by looking at many different training examples. You can add what's called an *embedding layer* to the beggining of your model and while your model trains your embedding layer will learn the correct embeddings for words. You can also use pretrained embedding layers.\r\n",
        "\r\n",
        "This is the technique we will use for our examples and its implementation will be showed later on.\r\n"
      ]
    },
    {
      "cell_type": "markdown",
      "metadata": {
        "id": "Xepa0QHCmSEU"
      },
      "source": [
        "##Recurrent Neural Networks (RNN's)\r\n",
        "Now that we've learned a little bit about how we can encode text it's time to dive into recurrent neural networks. Up until this point we have been using something called **feed-forward** neural networks. This simply means that all our data is fed forwards (all at once) from left to right through the network. This was fine for the problems we considered before but won't work very well for processing text. After all, even we (humans) don't process text all at once. We read word by word from left to right and keep track of the current meaning of the sentence so we can understand the meaning of the next word. Well this is exaclty what a recurrent neural network is designed to do. When we say recurrent neural network all we really mean is a network that contains a loop. A RNN will process one word at a time while maintaining an internal memory of what it's already seen. This will allow it to treat words differently based on their order in a sentence and to slowly build an understanding of the entire input, one word at a time.\r\n",
        "\r\n",
        "This is why we are treating our text data as a sequence! So that we can pass one word at a time to the RNN.\r\n",
        "\r\n",
        "Let's have a look at what a recurrent layer might look like.\r\n",
        "\r\n",
        "![alt text](https://colah.github.io/posts/2015-08-Understanding-LSTMs/img/RNN-unrolled.png)\r\n",
        "*Source: https://colah.github.io/posts/2015-08-Understanding-LSTMs/*\r\n",
        "\r\n",
        "Let's define what all these variables stand for before we get into the explination.\r\n",
        "\r\n",
        "**h<sub>t</sub>** output at time t\r\n",
        "\r\n",
        "**x<sub>t</sub>** input at time t\r\n",
        "\r\n",
        "**A** Recurrent Layer (loop)\r\n",
        "\r\n",
        "What this diagram is trying to illustrate is that a recurrent layer processes words or input one at a time in a combination with the output from the previous iteration. So, as we progress further in the input sequence, we build a more complex understanding of the text as a whole.\r\n",
        "\r\n",
        "What we've just looked at is called a **simple RNN layer**. It can be effective at processing shorter sequences of text for simple problems but has many downfalls associated with it. One of them being the fact that as text sequences get longer it gets increasingly difficult for the network to understand the text properly.\r\n",
        "\r\n"
      ]
    },
    {
      "cell_type": "markdown",
      "metadata": {
        "id": "zPQPQPhrmSpe"
      },
      "source": [
        "##LSTM\r\n",
        "The layer we dicussed in depth above was called a *simpleRNN*. However, there does exist some other recurrent layers (layers that contain a loop) that work much better than a simple RNN layer. The one we will talk about here is called LSTM (Long Short-Term Memory). This layer works very similarily to the simpleRNN layer but adds a way to access inputs from any timestep in the past. Whereas in our simple RNN layer input from previous timestamps gradually disappeared as we got further through the input. With a LSTM we have a long-term memory data structure storing all the previously seen inputs as well as when we saw them. This allows for us to access any previous value we want at any point in time. This adds to the complexity of our network and allows it to discover more useful relationships between inputs and when they appear. \r\n",
        "\r\n",
        "For the purpose of this course we will refrain from going any further into the math or details behind how these layers work.\r\n"
      ]
    },
    {
      "cell_type": "markdown",
      "metadata": {
        "id": "QzCsrRjkmVY3"
      },
      "source": [
        "##Sentiment Analysis\r\n",
        "And now time to see a recurrent neural network in action. For this example, we are going to do something called sentiment analysis.\r\n",
        "\r\n",
        "The formal definition of this term from Wikipedia is as follows:\r\n",
        "\r\n",
        "*the process of computationally identifying and categorizing opinions expressed in a piece of text, especially in order to determine whether the writer's attitude towards a particular topic, product, etc. is positive, negative, or neutral.*\r\n",
        "\r\n",
        "The example we’ll use here is classifying movie reviews as either postive, negative or neutral.\r\n",
        "\r\n",
        "*This guide is based on the following tensorflow tutorial: https://www.tensorflow.org/tutorials/text/text_classification_rnn*\r\n"
      ]
    },
    {
      "cell_type": "markdown",
      "metadata": {
        "id": "BtatdF_2mX54"
      },
      "source": [
        "###Movie Review Dataset\r\n",
        "Well start by loading in the IMDB movie review dataset from keras. This dataset contains 25,000 reviews from IMDB where each one is already preprocessed and has a label as either positive or negative. Each review is encoded by integers that represents how common a word is in the entire dataset. For example, a word encoded by the integer 3 means that it is the 3rd most common word in the dataset.\r\n",
        " \r\n"
      ]
    },
    {
      "cell_type": "code",
      "metadata": {
        "colab": {
          "base_uri": "https://localhost:8080/"
        },
        "id": "9Wafrb8omaE7",
        "outputId": "acaaa9bb-6901-4452-b5b1-7fb8b3f3c0dc"
      },
      "source": [
        "%tensorflow_version 2.x\r\n",
        "import keras\r\n",
        "from keras.datasets import imdb\r\n",
        "from keras.preprocessing import sequence\r\n",
        "import tensorflow as tf\r\n",
        "import os\r\n",
        "import numpy as np\r\n",
        "\r\n",
        "VOCAB_SIZE = 88584\r\n",
        "\r\n",
        "MAXLEN = 250\r\n",
        "BATCH_SIZE = 64\r\n",
        "\r\n",
        "(train_data, train_labels), (test_data, test_labels) = imdb.load_data(num_words = VOCAB_SIZE)"
      ],
      "execution_count": 5,
      "outputs": [
        {
          "output_type": "stream",
          "text": [
            "Downloading data from https://storage.googleapis.com/tensorflow/tf-keras-datasets/imdb.npz\n",
            "17465344/17464789 [==============================] - 1s 0us/step\n"
          ],
          "name": "stdout"
        },
        {
          "output_type": "stream",
          "text": [
            "<string>:6: VisibleDeprecationWarning: Creating an ndarray from ragged nested sequences (which is a list-or-tuple of lists-or-tuples-or ndarrays with different lengths or shapes) is deprecated. If you meant to do this, you must specify 'dtype=object' when creating the ndarray\n",
            "/usr/local/lib/python3.6/dist-packages/tensorflow/python/keras/datasets/imdb.py:159: VisibleDeprecationWarning: Creating an ndarray from ragged nested sequences (which is a list-or-tuple of lists-or-tuples-or ndarrays with different lengths or shapes) is deprecated. If you meant to do this, you must specify 'dtype=object' when creating the ndarray\n",
            "  x_train, y_train = np.array(xs[:idx]), np.array(labels[:idx])\n",
            "/usr/local/lib/python3.6/dist-packages/tensorflow/python/keras/datasets/imdb.py:160: VisibleDeprecationWarning: Creating an ndarray from ragged nested sequences (which is a list-or-tuple of lists-or-tuples-or ndarrays with different lengths or shapes) is deprecated. If you meant to do this, you must specify 'dtype=object' when creating the ndarray\n",
            "  x_test, y_test = np.array(xs[idx:]), np.array(labels[idx:])\n"
          ],
          "name": "stderr"
        }
      ]
    },
    {
      "cell_type": "code",
      "metadata": {
        "colab": {
          "base_uri": "https://localhost:8080/"
        },
        "id": "tmL-1ovKqQWu",
        "outputId": "6ec12c1a-e10a-4a9c-d989-be53508015c8"
      },
      "source": [
        "# lets look at one review\r\n",
        "train_data[0]\r\n",
        "print(len(train_data[0]))\r\n",
        "print(len(train_data[1]))"
      ],
      "execution_count": 6,
      "outputs": [
        {
          "output_type": "stream",
          "text": [
            "218\n",
            "189\n"
          ],
          "name": "stdout"
        }
      ]
    },
    {
      "cell_type": "markdown",
      "metadata": {
        "id": "WEtXTQHDqiU9"
      },
      "source": [
        "###More Preprocessing\r\n",
        "If we have a look at some of our loaded in reviews, we'll notice that they are different lengths. This is an issue. We cannot pass different length data into our neural network. Therefore, we must make each review the same length. To do this we will follow the procedure below:\r\n",
        "- if the review is greater than 250 words then trim off the extra words\r\n",
        "- if the review is less than 250 words add the necessary amount of 0's to make it equal to 250.\r\n",
        "\r\n",
        "Luckily for us keras has a function that can do this for us:\r\n"
      ]
    },
    {
      "cell_type": "code",
      "metadata": {
        "id": "APh2bNXRqkqv"
      },
      "source": [
        "train_data = sequence.pad_sequences(train_data, MAXLEN)\r\n",
        "test_data = sequence.pad_sequences(test_data, MAXLEN)"
      ],
      "execution_count": 7,
      "outputs": []
    },
    {
      "cell_type": "code",
      "metadata": {
        "colab": {
          "base_uri": "https://localhost:8080/"
        },
        "id": "ob-tNMfwrF05",
        "outputId": "f48a9aa2-0481-4658-c2a0-1a51834634de"
      },
      "source": [
        "print(len(train_data[0]))\r\n",
        "print(len(train_data[1]))"
      ],
      "execution_count": 8,
      "outputs": [
        {
          "output_type": "stream",
          "text": [
            "250\n",
            "250\n"
          ],
          "name": "stdout"
        }
      ]
    },
    {
      "cell_type": "markdown",
      "metadata": {
        "id": "6Qy7aK-YrKGw"
      },
      "source": [
        "###Creating the Model\r\n",
        "Now it's time to create the model. We'll use a word embedding layer as the first layer in our model and add a LSTM layer afterwards that feeds into a dense node to get our predicted sentiment. \r\n",
        "\r\n",
        "32 stands for the output dimension of the vectors generated by the embedding layer. We can change this value if we'd like!"
      ]
    },
    {
      "cell_type": "code",
      "metadata": {
        "id": "VDp9RinnrKhf"
      },
      "source": [
        "model = tf.keras.Sequential([\r\n",
        "                             tf.keras.layers.Embedding(VOCAB_SIZE,32), # converts to tensors of 32 dimentions\r\n",
        "                             tf.keras.layers.LSTM(32),\r\n",
        "                             tf.keras.layers.Dense(1, activation='sigmoid')\r\n",
        "])"
      ],
      "execution_count": 9,
      "outputs": []
    },
    {
      "cell_type": "code",
      "metadata": {
        "colab": {
          "base_uri": "https://localhost:8080/"
        },
        "id": "VSKgOS8arb6Z",
        "outputId": "6e1e6dad-14bc-4e81-9853-9c8487bb40ab"
      },
      "source": [
        "model.summary()"
      ],
      "execution_count": 10,
      "outputs": [
        {
          "output_type": "stream",
          "text": [
            "Model: \"sequential\"\n",
            "_________________________________________________________________\n",
            "Layer (type)                 Output Shape              Param #   \n",
            "=================================================================\n",
            "embedding (Embedding)        (None, None, 32)          2834688   \n",
            "_________________________________________________________________\n",
            "lstm (LSTM)                  (None, 32)                8320      \n",
            "_________________________________________________________________\n",
            "dense (Dense)                (None, 1)                 33        \n",
            "=================================================================\n",
            "Total params: 2,843,041\n",
            "Trainable params: 2,843,041\n",
            "Non-trainable params: 0\n",
            "_________________________________________________________________\n"
          ],
          "name": "stdout"
        }
      ]
    },
    {
      "cell_type": "markdown",
      "metadata": {
        "id": "xzY4q5r6snke"
      },
      "source": [
        "###Training\r\n",
        "Now it's time to compile and train the model. "
      ]
    },
    {
      "cell_type": "code",
      "metadata": {
        "colab": {
          "base_uri": "https://localhost:8080/"
        },
        "id": "HK1GIFynsySQ",
        "outputId": "cc41bba5-d0bf-4b34-a39e-96e033a31373"
      },
      "source": [
        "model.compile(loss='binary_crossentropy', optimizer='rmsprop', metrics=['acc'])\r\n",
        "history = model.fit(train_data, train_labels, epochs=50, validation_split=0.2) # validation_split: percentage of data for validation"
      ],
      "execution_count": 11,
      "outputs": [
        {
          "output_type": "stream",
          "text": [
            "Epoch 1/50\n",
            "625/625 [==============================] - 46s 62ms/step - loss: 0.5134 - acc: 0.7327 - val_loss: 0.3216 - val_acc: 0.8700\n",
            "Epoch 2/50\n",
            "625/625 [==============================] - 38s 60ms/step - loss: 0.2373 - acc: 0.9100 - val_loss: 0.2812 - val_acc: 0.8902\n",
            "Epoch 3/50\n",
            "625/625 [==============================] - 38s 61ms/step - loss: 0.1740 - acc: 0.9392 - val_loss: 0.2777 - val_acc: 0.8832\n",
            "Epoch 4/50\n",
            "625/625 [==============================] - 38s 60ms/step - loss: 0.1432 - acc: 0.9492 - val_loss: 0.3303 - val_acc: 0.8458\n",
            "Epoch 5/50\n",
            "625/625 [==============================] - 38s 60ms/step - loss: 0.1226 - acc: 0.9578 - val_loss: 0.2909 - val_acc: 0.8906\n",
            "Epoch 6/50\n",
            "625/625 [==============================] - 38s 60ms/step - loss: 0.1042 - acc: 0.9664 - val_loss: 0.4286 - val_acc: 0.8614\n",
            "Epoch 7/50\n",
            "625/625 [==============================] - 38s 61ms/step - loss: 0.0858 - acc: 0.9710 - val_loss: 0.3155 - val_acc: 0.8858\n",
            "Epoch 8/50\n",
            "625/625 [==============================] - 37s 60ms/step - loss: 0.0735 - acc: 0.9760 - val_loss: 0.3956 - val_acc: 0.8784\n",
            "Epoch 9/50\n",
            "625/625 [==============================] - 38s 60ms/step - loss: 0.0625 - acc: 0.9790 - val_loss: 0.3483 - val_acc: 0.8810\n",
            "Epoch 10/50\n",
            "625/625 [==============================] - 38s 61ms/step - loss: 0.0602 - acc: 0.9800 - val_loss: 0.3447 - val_acc: 0.8846\n",
            "Epoch 11/50\n",
            "625/625 [==============================] - 37s 60ms/step - loss: 0.0507 - acc: 0.9837 - val_loss: 0.4222 - val_acc: 0.8806\n",
            "Epoch 12/50\n",
            "625/625 [==============================] - 38s 60ms/step - loss: 0.0456 - acc: 0.9858 - val_loss: 0.3447 - val_acc: 0.8790\n",
            "Epoch 13/50\n",
            "625/625 [==============================] - 38s 60ms/step - loss: 0.0369 - acc: 0.9885 - val_loss: 0.3773 - val_acc: 0.8792\n",
            "Epoch 14/50\n",
            "625/625 [==============================] - 38s 61ms/step - loss: 0.0334 - acc: 0.9888 - val_loss: 0.7363 - val_acc: 0.8252\n",
            "Epoch 15/50\n",
            "625/625 [==============================] - 39s 62ms/step - loss: 0.0298 - acc: 0.9905 - val_loss: 0.4440 - val_acc: 0.8704\n",
            "Epoch 16/50\n",
            "625/625 [==============================] - 38s 60ms/step - loss: 0.0248 - acc: 0.9924 - val_loss: 0.4585 - val_acc: 0.8692\n",
            "Epoch 17/50\n",
            "625/625 [==============================] - 37s 60ms/step - loss: 0.0247 - acc: 0.9933 - val_loss: 0.4726 - val_acc: 0.8754\n",
            "Epoch 18/50\n",
            "625/625 [==============================] - 38s 60ms/step - loss: 0.0179 - acc: 0.9946 - val_loss: 0.5210 - val_acc: 0.8736\n",
            "Epoch 19/50\n",
            "625/625 [==============================] - 37s 60ms/step - loss: 0.0190 - acc: 0.9942 - val_loss: 0.5414 - val_acc: 0.8728\n",
            "Epoch 20/50\n",
            "625/625 [==============================] - 37s 60ms/step - loss: 0.0154 - acc: 0.9958 - val_loss: 0.6962 - val_acc: 0.8510\n",
            "Epoch 21/50\n",
            "625/625 [==============================] - 37s 59ms/step - loss: 0.0174 - acc: 0.9941 - val_loss: 0.5620 - val_acc: 0.8748\n",
            "Epoch 22/50\n",
            "625/625 [==============================] - 37s 60ms/step - loss: 0.0138 - acc: 0.9963 - val_loss: 0.6601 - val_acc: 0.8592\n",
            "Epoch 23/50\n",
            "625/625 [==============================] - 38s 60ms/step - loss: 0.0112 - acc: 0.9972 - val_loss: 0.7335 - val_acc: 0.8652\n",
            "Epoch 24/50\n",
            "625/625 [==============================] - 37s 59ms/step - loss: 0.0099 - acc: 0.9976 - val_loss: 0.6163 - val_acc: 0.8632\n",
            "Epoch 25/50\n",
            "625/625 [==============================] - 37s 59ms/step - loss: 0.0066 - acc: 0.9982 - val_loss: 0.6364 - val_acc: 0.8656\n",
            "Epoch 26/50\n",
            "625/625 [==============================] - 37s 59ms/step - loss: 0.0089 - acc: 0.9976 - val_loss: 0.7536 - val_acc: 0.8648\n",
            "Epoch 27/50\n",
            "625/625 [==============================] - 38s 61ms/step - loss: 0.0066 - acc: 0.9982 - val_loss: 0.7922 - val_acc: 0.8704\n",
            "Epoch 28/50\n",
            "625/625 [==============================] - 38s 60ms/step - loss: 0.0059 - acc: 0.9987 - val_loss: 0.7419 - val_acc: 0.8598\n",
            "Epoch 29/50\n",
            "625/625 [==============================] - 38s 61ms/step - loss: 0.0050 - acc: 0.9987 - val_loss: 0.8190 - val_acc: 0.8672\n",
            "Epoch 30/50\n",
            "625/625 [==============================] - 38s 60ms/step - loss: 0.0047 - acc: 0.9988 - val_loss: 0.8005 - val_acc: 0.8696\n",
            "Epoch 31/50\n",
            "625/625 [==============================] - 38s 61ms/step - loss: 0.0053 - acc: 0.9986 - val_loss: 0.8334 - val_acc: 0.8694\n",
            "Epoch 32/50\n",
            "625/625 [==============================] - 38s 61ms/step - loss: 0.0041 - acc: 0.9992 - val_loss: 0.8499 - val_acc: 0.8750\n",
            "Epoch 33/50\n",
            "625/625 [==============================] - 37s 60ms/step - loss: 0.0013 - acc: 0.9996 - val_loss: 0.8890 - val_acc: 0.8692\n",
            "Epoch 34/50\n",
            "625/625 [==============================] - 37s 59ms/step - loss: 0.0010 - acc: 0.9997 - val_loss: 0.8441 - val_acc: 0.8692\n",
            "Epoch 35/50\n",
            "625/625 [==============================] - 37s 59ms/step - loss: 0.0018 - acc: 0.9996 - val_loss: 1.0515 - val_acc: 0.8556\n",
            "Epoch 36/50\n",
            "625/625 [==============================] - 37s 59ms/step - loss: 0.0021 - acc: 0.9995 - val_loss: 1.1459 - val_acc: 0.8674\n",
            "Epoch 37/50\n",
            "625/625 [==============================] - 38s 60ms/step - loss: 0.0075 - acc: 0.9992 - val_loss: 1.1785 - val_acc: 0.8670\n",
            "Epoch 38/50\n",
            "625/625 [==============================] - 38s 60ms/step - loss: 0.0025 - acc: 0.9998 - val_loss: 1.3278 - val_acc: 0.8722\n",
            "Epoch 39/50\n",
            "625/625 [==============================] - 37s 60ms/step - loss: 0.0016 - acc: 0.9998 - val_loss: 1.2370 - val_acc: 0.8682\n",
            "Epoch 40/50\n",
            "625/625 [==============================] - 37s 60ms/step - loss: 0.0033 - acc: 0.9993 - val_loss: 1.1909 - val_acc: 0.8662\n",
            "Epoch 41/50\n",
            "625/625 [==============================] - 38s 60ms/step - loss: 0.0022 - acc: 0.9997 - val_loss: 1.2299 - val_acc: 0.8690\n",
            "Epoch 42/50\n",
            "625/625 [==============================] - 38s 60ms/step - loss: 0.0010 - acc: 0.9997 - val_loss: 1.2882 - val_acc: 0.8632\n",
            "Epoch 43/50\n",
            "625/625 [==============================] - 38s 61ms/step - loss: 0.0010 - acc: 0.9998 - val_loss: 1.3634 - val_acc: 0.8614\n",
            "Epoch 44/50\n",
            "625/625 [==============================] - 38s 61ms/step - loss: 0.0023 - acc: 0.9996 - val_loss: 1.3852 - val_acc: 0.8680\n",
            "Epoch 45/50\n",
            "625/625 [==============================] - 39s 62ms/step - loss: 7.0773e-04 - acc: 0.9998 - val_loss: 1.2984 - val_acc: 0.8584\n",
            "Epoch 46/50\n",
            "625/625 [==============================] - 38s 61ms/step - loss: 2.9456e-04 - acc: 0.9999 - val_loss: 1.3225 - val_acc: 0.8626\n",
            "Epoch 47/50\n",
            "625/625 [==============================] - 38s 60ms/step - loss: 3.7074e-04 - acc: 0.9999 - val_loss: 1.6049 - val_acc: 0.8622\n",
            "Epoch 48/50\n",
            "625/625 [==============================] - 38s 61ms/step - loss: 0.0014 - acc: 0.9999 - val_loss: 1.4130 - val_acc: 0.8646\n",
            "Epoch 49/50\n",
            "625/625 [==============================] - 38s 60ms/step - loss: 0.0036 - acc: 0.9995 - val_loss: 1.3106 - val_acc: 0.8674\n",
            "Epoch 50/50\n",
            "625/625 [==============================] - 38s 62ms/step - loss: 0.0028 - acc: 0.9996 - val_loss: 1.2520 - val_acc: 0.8686\n"
          ],
          "name": "stdout"
        }
      ]
    },
    {
      "cell_type": "markdown",
      "metadata": {
        "id": "xWWgMx97u5pz"
      },
      "source": [
        "And we'll evaluate the model on our training data to see how well it performs."
      ]
    },
    {
      "cell_type": "code",
      "metadata": {
        "colab": {
          "base_uri": "https://localhost:8080/"
        },
        "id": "ozWPRSgTvBVc",
        "outputId": "ae5e24c3-c2eb-4514-c40f-db83221820b6"
      },
      "source": [
        "results = model.evaluate(test_data, test_labels, verbose=2)\r\n",
        "print(results)"
      ],
      "execution_count": 12,
      "outputs": [
        {
          "output_type": "stream",
          "text": [
            "782/782 - 12s - loss: 1.5378 - acc: 0.8370\n",
            "[1.537768006324768, 0.8369600176811218]\n"
          ],
          "name": "stdout"
        }
      ]
    },
    {
      "cell_type": "markdown",
      "metadata": {
        "id": "Qbu044uBvXO5"
      },
      "source": [
        "###Making Predictions\r\n",
        "Now let’s use our network to make predictions on our own reviews. \r\n",
        "\r\n",
        "Since our reviews are encoded well need to convert any review that we write into that form so the network can understand it. To do that well load the encodings from the dataset and use them to encode our own data."
      ]
    },
    {
      "cell_type": "code",
      "metadata": {
        "colab": {
          "base_uri": "https://localhost:8080/"
        },
        "id": "1etE1aMZvbG2",
        "outputId": "3e1b621d-5b56-4ced-a9d1-d50995b7da98"
      },
      "source": [
        "word_index = imdb.get_word_index()\r\n",
        "\r\n",
        "def encode_text(text):\r\n",
        "  tokens = keras.preprocessing.text.text_to_word_sequence(text)\r\n",
        "  tokens = [word_index[word] if word in word_index else 0 for word in tokens]\r\n",
        "  return sequence.pad_sequences([tokens], MAXLEN)[0]\r\n",
        "\r\n",
        "text = \"that movie was just amazing, so amazing\"\r\n",
        "encoded = encode_text(text)\r\n",
        "print(encoded)"
      ],
      "execution_count": 13,
      "outputs": [
        {
          "output_type": "stream",
          "text": [
            "Downloading data from https://storage.googleapis.com/tensorflow/tf-keras-datasets/imdb_word_index.json\n",
            "1646592/1641221 [==============================] - 0s 0us/step\n",
            "[  0   0   0   0   0   0   0   0   0   0   0   0   0   0   0   0   0   0\n",
            "   0   0   0   0   0   0   0   0   0   0   0   0   0   0   0   0   0   0\n",
            "   0   0   0   0   0   0   0   0   0   0   0   0   0   0   0   0   0   0\n",
            "   0   0   0   0   0   0   0   0   0   0   0   0   0   0   0   0   0   0\n",
            "   0   0   0   0   0   0   0   0   0   0   0   0   0   0   0   0   0   0\n",
            "   0   0   0   0   0   0   0   0   0   0   0   0   0   0   0   0   0   0\n",
            "   0   0   0   0   0   0   0   0   0   0   0   0   0   0   0   0   0   0\n",
            "   0   0   0   0   0   0   0   0   0   0   0   0   0   0   0   0   0   0\n",
            "   0   0   0   0   0   0   0   0   0   0   0   0   0   0   0   0   0   0\n",
            "   0   0   0   0   0   0   0   0   0   0   0   0   0   0   0   0   0   0\n",
            "   0   0   0   0   0   0   0   0   0   0   0   0   0   0   0   0   0   0\n",
            "   0   0   0   0   0   0   0   0   0   0   0   0   0   0   0   0   0   0\n",
            "   0   0   0   0   0   0   0   0   0   0   0   0   0   0   0   0   0   0\n",
            "   0   0   0   0   0   0   0   0   0  12  17  13  40 477  35 477]\n"
          ],
          "name": "stdout"
        }
      ]
    },
    {
      "cell_type": "code",
      "metadata": {
        "colab": {
          "base_uri": "https://localhost:8080/"
        },
        "id": "VIDR_7ddwmna",
        "outputId": "b632794c-6eb5-4a90-8cc6-ce770c60f606"
      },
      "source": [
        "# while were at it lets make a decode function\r\n",
        "\r\n",
        "reverse_word_index = {value: key for (key, value) in word_index.items()}\r\n",
        "\r\n",
        "def decode_integers(integers):\r\n",
        "    PAD = 0\r\n",
        "    text = \"\"\r\n",
        "    for num in integers:\r\n",
        "      if num != PAD:\r\n",
        "        text += reverse_word_index[num] + \" \"\r\n",
        "\r\n",
        "    return text[:-1]\r\n",
        "  \r\n",
        "print(decode_integers(encoded))"
      ],
      "execution_count": 14,
      "outputs": [
        {
          "output_type": "stream",
          "text": [
            "that movie was just amazing so amazing\n"
          ],
          "name": "stdout"
        }
      ]
    },
    {
      "cell_type": "code",
      "metadata": {
        "colab": {
          "base_uri": "https://localhost:8080/"
        },
        "id": "qkVOuveWwscJ",
        "outputId": "f44144e2-30d2-465f-e3ec-c942a2848308"
      },
      "source": [
        "# now time to make a prediction\r\n",
        "\r\n",
        "def predict(text):\r\n",
        "  encoded_text = encode_text(text)\r\n",
        "  pred = np.zeros((1,250))\r\n",
        "  pred[0] = encoded_text\r\n",
        "  result = model.predict(pred) \r\n",
        "  print(result[0])\r\n",
        "\r\n",
        "positive_review = \"That movie was! really loved it and would great watch it again because it was amazingly great\"\r\n",
        "predict(positive_review)\r\n",
        "\r\n",
        "negative_review = \"that movie really sucked. I hated it and wouldn't watch it again. Was one of the worst things I've ever watched\"\r\n",
        "predict(negative_review)\r\n",
        "\r\n"
      ],
      "execution_count": 21,
      "outputs": [
        {
          "output_type": "stream",
          "text": [
            "[0.99996233]\n",
            "[0.00013172]\n"
          ],
          "name": "stdout"
        }
      ]
    },
    {
      "cell_type": "markdown",
      "metadata": {
        "id": "1ZiNeBlQxbkc"
      },
      "source": [
        "##RNN Play Generator\r\n",
        "\r\n",
        "Now time for one of the coolest examples we've seen so far. We are going to use a RNN to generate a play. We will simply show the RNN an example of something we want it to recreate and it will learn how to write a version of it on its own. We'll do this using a character predictive model that will take as input a variable length sequence and predict the next character. We can use the model many times in a row with the output from the last predicition as the input for the next call to generate a sequence.\r\n",
        "\r\n",
        "\r\n",
        "*This guide is based on the following: https://www.tensorflow.org/tutorials/text/text_generation*"
      ]
    },
    {
      "cell_type": "code",
      "metadata": {
        "id": "olGhLS8Yxc4G"
      },
      "source": [
        "%tensorflow_version 2.x\r\n",
        "from keras.preprocessing import sequence\r\n",
        "import keras\r\n",
        "import tensorflow as tf\r\n",
        "import os\r\n",
        "import numpy as np"
      ],
      "execution_count": 42,
      "outputs": []
    },
    {
      "cell_type": "markdown",
      "metadata": {
        "id": "pYVXJSZeVBUX"
      },
      "source": [
        "###Dataset\r\n",
        "For this example, we only need one peice of training data. In fact, we can write our own poem or play and pass that to the network for training if we'd like. However, to make things easy we'll use an extract from a shakesphere play.\r\n"
      ]
    },
    {
      "cell_type": "code",
      "metadata": {
        "id": "myrUaKUOVBwd"
      },
      "source": [
        "path_to_file = tf.keras.utils.get_file('shakespeare.txt', 'https://storage.googleapis.com/download.tensorflow.org/data/shakespeare.txt')"
      ],
      "execution_count": 43,
      "outputs": []
    },
    {
      "cell_type": "markdown",
      "metadata": {
        "id": "J1c0YCQwVB2t"
      },
      "source": [
        "###Loading Your Own Data\r\n",
        "To load your own data, you'll need to upload a file from the dialog below. Then you'll need to follow the steps from above but load in this new file instead."
      ]
    },
    {
      "cell_type": "code",
      "metadata": {
        "id": "154QkmbfVH5F"
      },
      "source": [
        "from google.colab import files\r\n",
        "path_to_file = list(files.upload().keys())[0]"
      ],
      "execution_count": null,
      "outputs": []
    },
    {
      "cell_type": "markdown",
      "metadata": {
        "id": "6DF9X9ndVIAS"
      },
      "source": [
        "###Read Contents of File"
      ]
    },
    {
      "cell_type": "code",
      "metadata": {
        "colab": {
          "base_uri": "https://localhost:8080/"
        },
        "id": "jVcfatyUV8vp",
        "outputId": "88273979-2510-4abe-e5bb-3483394d2256"
      },
      "source": [
        "# Read, then decode for py2 compat\r\n",
        "text = open(path_to_file, 'rb').read().decode(encoding='utf-8')\r\n",
        "# Length of text is the number of characters in it\r\n",
        "print('Length of text: {} characters'.format(len(text)))"
      ],
      "execution_count": 44,
      "outputs": [
        {
          "output_type": "stream",
          "text": [
            "Length of text: 1115394 characters\n"
          ],
          "name": "stdout"
        }
      ]
    },
    {
      "cell_type": "code",
      "metadata": {
        "colab": {
          "base_uri": "https://localhost:8080/"
        },
        "id": "6VGzxeZ-WhlW",
        "outputId": "15458136-cd26-4bb1-d113-cf11056c1c2a"
      },
      "source": [
        "# Take a look at the first 250 characters in text\r\n",
        "print(text[:250])"
      ],
      "execution_count": 45,
      "outputs": [
        {
          "output_type": "stream",
          "text": [
            "First Citizen:\n",
            "Before we proceed any further, hear me speak.\n",
            "\n",
            "All:\n",
            "Speak, speak.\n",
            "\n",
            "First Citizen:\n",
            "You are all resolved rather to die than to famish?\n",
            "\n",
            "All:\n",
            "Resolved. resolved.\n",
            "\n",
            "First Citizen:\n",
            "First, you know Caius Marcius is chief enemy to the people.\n",
            "\n"
          ],
          "name": "stdout"
        }
      ]
    },
    {
      "cell_type": "markdown",
      "metadata": {
        "id": "VnqlxlDtWaRe"
      },
      "source": [
        "###Encoding\r\n",
        "Since this text isn't encoded yet well need to do that ourselves. We are going to encode each unique character as a different integer.\r\n",
        "\r\n"
      ]
    },
    {
      "cell_type": "code",
      "metadata": {
        "id": "KEW9OugyWcmu"
      },
      "source": [
        "vocab = sorted(set(text))\r\n",
        "# Creating a mapping from unique characters to indices\r\n",
        "char2idx = {u:i for i, u in enumerate(vocab)}\r\n",
        "idx2char = np.array(vocab)\r\n",
        "\r\n",
        "def text_to_int(text):\r\n",
        "  return np.array([char2idx[c] for c in text])\r\n",
        "\r\n",
        "text_as_int = text_to_int(text)"
      ],
      "execution_count": 46,
      "outputs": []
    },
    {
      "cell_type": "code",
      "metadata": {
        "colab": {
          "base_uri": "https://localhost:8080/"
        },
        "id": "DzBXSvUZWq6N",
        "outputId": "f2f11c19-20a7-4e68-9116-8fb5e8e80724"
      },
      "source": [
        "# lets look at how part of our text is encoded\r\n",
        "print(\"Text:\", text[:13])\r\n",
        "print(\"Encoded:\", text_to_int(text[:13]))"
      ],
      "execution_count": 47,
      "outputs": [
        {
          "output_type": "stream",
          "text": [
            "Text: First Citizen\n",
            "Encoded: [18 47 56 57 58  1 15 47 58 47 64 43 52]\n"
          ],
          "name": "stdout"
        }
      ]
    },
    {
      "cell_type": "markdown",
      "metadata": {
        "id": "iXJSvkr0XpdY"
      },
      "source": [
        "And here we will make a function that can convert our numeric values to text."
      ]
    },
    {
      "cell_type": "code",
      "metadata": {
        "colab": {
          "base_uri": "https://localhost:8080/"
        },
        "id": "t2DdYcJvXp5F",
        "outputId": "83d7ae6d-ed8c-4bf3-f2ea-0ff31a46199d"
      },
      "source": [
        "def int_to_text(ints):\r\n",
        "  try:\r\n",
        "    ints = ints.numpy()\r\n",
        "  except:\r\n",
        "    pass\r\n",
        "  return ''.join(idx2char[ints])\r\n",
        "\r\n",
        "print(int_to_text(text_as_int[:13]))"
      ],
      "execution_count": 48,
      "outputs": [
        {
          "output_type": "stream",
          "text": [
            "First Citizen\n"
          ],
          "name": "stdout"
        }
      ]
    },
    {
      "cell_type": "markdown",
      "metadata": {
        "id": "HFlonGfHYTLI"
      },
      "source": [
        "###Creating Training Examples\r\n",
        "Remember our task is to feed the model a sequence and have it return to us the next character. This means we need to split our text data from above into many shorter sequences that we can pass to the model as training examples. \r\n",
        "\r\n",
        "The training examples we will prepapre will use a *seq_length* sequence as input and a *seq_length* sequence as the output where that sequence is the original sequence shifted one letter to the right. For example:\r\n",
        "\r\n",
        "```input: Hell | output: ello```\r\n",
        "\r\n",
        "Our first step will be to create a stream of characters from our text data."
      ]
    },
    {
      "cell_type": "code",
      "metadata": {
        "id": "kxG4LGnpYW_0"
      },
      "source": [
        "seq_length = 100  # length of sequence for a training example\r\n",
        "examples_per_epoch = len(text)//(seq_length+1)\r\n",
        "\r\n",
        "# Create training examples / targets\r\n",
        "char_dataset = tf.data.Dataset.from_tensor_slices(text_as_int)"
      ],
      "execution_count": 49,
      "outputs": []
    },
    {
      "cell_type": "markdown",
      "metadata": {
        "id": "wpsN9nbOY-a6"
      },
      "source": [
        "Next we can use the batch method to turn this stream of characters into batches of desired length."
      ]
    },
    {
      "cell_type": "code",
      "metadata": {
        "id": "wbcuPmk8Y_yi"
      },
      "source": [
        "sequences = char_dataset.batch(seq_length+1, drop_remainder=True) # if we have for example, 105 characters, we drop the last 4."
      ],
      "execution_count": 50,
      "outputs": []
    },
    {
      "cell_type": "markdown",
      "metadata": {
        "id": "vdq36KnEZS0H"
      },
      "source": [
        "Now we need to use these sequences of length 101 and split them into input and output."
      ]
    },
    {
      "cell_type": "code",
      "metadata": {
        "id": "gbufudWBZihF"
      },
      "source": [
        "def split_input_target(chunk):\r\n",
        "  input_text = chunk[:-1] # hell\r\n",
        "  target_text = chunk[1:] # ello\r\n",
        "  return input_text, target_text\r\n",
        "\r\n",
        "dataset = sequences.map(split_input_target) # we use map to apply the above function to every entry.\r\n"
      ],
      "execution_count": 55,
      "outputs": []
    },
    {
      "cell_type": "code",
      "metadata": {
        "colab": {
          "base_uri": "https://localhost:8080/"
        },
        "id": "BC0k3Wl4aOqo",
        "outputId": "45f516ba-a693-4764-b931-05ceea70ec3c"
      },
      "source": [
        "for x, y in dataset.take(2):\r\n",
        "  print(\"\\n\\nEXAMPLE\\n\")\r\n",
        "  print(\"INPUT\")\r\n",
        "  print(int_to_text(x))\r\n",
        "  print(\"\\nOUTPUT\")\r\n",
        "  print(int_to_text(y))"
      ],
      "execution_count": 57,
      "outputs": [
        {
          "output_type": "stream",
          "text": [
            "\n",
            "\n",
            "EXAMPLE\n",
            "\n",
            "INPUT\n",
            "First Citizen:\n",
            "Before we proceed any further, hear me speak.\n",
            "\n",
            "All:\n",
            "Speak, speak.\n",
            "\n",
            "First Citizen:\n",
            "You\n",
            "\n",
            "OUTPUT\n",
            "irst Citizen:\n",
            "Before we proceed any further, hear me speak.\n",
            "\n",
            "All:\n",
            "Speak, speak.\n",
            "\n",
            "First Citizen:\n",
            "You \n",
            "\n",
            "\n",
            "EXAMPLE\n",
            "\n",
            "INPUT\n",
            "are all resolved rather to die than to famish?\n",
            "\n",
            "All:\n",
            "Resolved. resolved.\n",
            "\n",
            "First Citizen:\n",
            "First, you \n",
            "\n",
            "OUTPUT\n",
            "re all resolved rather to die than to famish?\n",
            "\n",
            "All:\n",
            "Resolved. resolved.\n",
            "\n",
            "First Citizen:\n",
            "First, you k\n"
          ],
          "name": "stdout"
        }
      ]
    },
    {
      "cell_type": "markdown",
      "metadata": {
        "id": "utk5fOsxaztd"
      },
      "source": [
        "Finally we need to make training batches."
      ]
    },
    {
      "cell_type": "code",
      "metadata": {
        "id": "fwTfUXIea0JR"
      },
      "source": [
        "BATCH_SIZE = 64\r\n",
        "VOCAB_SIZE = len(vocab)  # vocab is number of unique characters\r\n",
        "EMBEDDING_DIM = 256\r\n",
        "RNN_UNITS = 1024\r\n",
        "\r\n",
        "# Buffer size to shuffle the dataset\r\n",
        "# (TF data is designed to work with possibly infinite sequences,\r\n",
        "# so it doesn't attempt to shuffle the entire sequence in memory. Instead,\r\n",
        "# it maintains a buffer in which it shuffles elements).\r\n",
        "BUFFER_SIZE = 10000\r\n",
        "\r\n",
        "data = dataset.shuffle(BUFFER_SIZE).batch(BATCH_SIZE, drop_remainder=True)"
      ],
      "execution_count": 58,
      "outputs": []
    },
    {
      "cell_type": "markdown",
      "metadata": {
        "id": "4OWgTbQCbJCX"
      },
      "source": [
        "###Building the Model\r\n",
        "Now it is time to build the model. We will use an embedding layer a LSTM and one dense layer that contains a node for each unique character in our training data. The dense layer will give us a probability distribution over all nodes."
      ]
    },
    {
      "cell_type": "code",
      "metadata": {
        "colab": {
          "base_uri": "https://localhost:8080/"
        },
        "id": "i9Cdb9w6bMaR",
        "outputId": "22bee051-3049-4f88-a6d2-70cdee3b8665"
      },
      "source": [
        "def build_model(vocab_size, embedding_dim, rnn_units, batch_size):\r\n",
        "  model = tf.keras.Sequential([\r\n",
        "    tf.keras.layers.Embedding(vocab_size, embedding_dim,\r\n",
        "                              batch_input_shape=[batch_size, None]),\r\n",
        "    tf.keras.layers.LSTM(rnn_units,\r\n",
        "                        return_sequences=True, # see the output in every single step.\r\n",
        "                        stateful=True,\r\n",
        "                        recurrent_initializer='glorot_uniform'),\r\n",
        "    tf.keras.layers.Dense(vocab_size)\r\n",
        "  ])\r\n",
        "  return model\r\n",
        "\r\n",
        "model = build_model(VOCAB_SIZE,EMBEDDING_DIM, RNN_UNITS, BATCH_SIZE)\r\n",
        "model.summary()"
      ],
      "execution_count": 59,
      "outputs": [
        {
          "output_type": "stream",
          "text": [
            "Model: \"sequential_1\"\n",
            "_________________________________________________________________\n",
            "Layer (type)                 Output Shape              Param #   \n",
            "=================================================================\n",
            "embedding_1 (Embedding)      (64, None, 256)           16640     \n",
            "_________________________________________________________________\n",
            "lstm_1 (LSTM)                (64, None, 1024)          5246976   \n",
            "_________________________________________________________________\n",
            "dense_1 (Dense)              (64, None, 65)            66625     \n",
            "=================================================================\n",
            "Total params: 5,330,241\n",
            "Trainable params: 5,330,241\n",
            "Non-trainable params: 0\n",
            "_________________________________________________________________\n"
          ],
          "name": "stdout"
        }
      ]
    },
    {
      "cell_type": "markdown",
      "metadata": {
        "id": "jW6tQ_mNcRk1"
      },
      "source": [
        "###Creating a Loss Function\r\n",
        "Now we are going to create our own loss function for this problem. This is because our model will output a (64, sequence_length, 65) shaped tensor that represents the probability distribution of each character at each timestep for every sequence in the batch. \r\n"
      ]
    },
    {
      "cell_type": "markdown",
      "metadata": {
        "id": "m1S-I0BXcVev"
      },
      "source": [
        "However, before we do that let's have a look at a sample input and the output from our untrained model. This is so we can understand what the model is giving us."
      ]
    },
    {
      "cell_type": "code",
      "metadata": {
        "colab": {
          "base_uri": "https://localhost:8080/"
        },
        "id": "etIirbwgcY-V",
        "outputId": "ed9aa9ca-e0e8-41bd-898e-32253b2ace8a"
      },
      "source": [
        "for input_example_batch, target_example_batch in data.take(1):\r\n",
        "  example_batch_predictions = model(input_example_batch)  # ask our model for a prediction on our first batch of training data (64 entries)\r\n",
        "  print(example_batch_predictions.shape, \"# (batch_size, sequence_length, vocab_size)\")  # print out the output shape"
      ],
      "execution_count": 60,
      "outputs": [
        {
          "output_type": "stream",
          "text": [
            "(64, 100, 65) # (batch_size, sequence_length, vocab_size)\n"
          ],
          "name": "stdout"
        }
      ]
    },
    {
      "cell_type": "code",
      "metadata": {
        "id": "jerF8ZJ2cu2v"
      },
      "source": [
        "# we can see that the prediction is an array of 64 arrays, one for each entry in the batch.\r\n",
        "print(len(example_batch_predictions))\r\n",
        "print(example_batch_predictions)"
      ],
      "execution_count": null,
      "outputs": []
    },
    {
      "cell_type": "code",
      "metadata": {
        "colab": {
          "base_uri": "https://localhost:8080/"
        },
        "id": "sGWzTIiAdDGH",
        "outputId": "b7931e3d-817a-4c80-d3b7-ed412658e1e7"
      },
      "source": [
        "# lets examine one prediction.\r\n",
        "pred = example_batch_predictions[0]\r\n",
        "print(len(pred))\r\n",
        "print(pred)\r\n",
        "# notice this is a 2d array of length 100, where each interior array is the prediction for the next character at each time step."
      ],
      "execution_count": 62,
      "outputs": [
        {
          "output_type": "stream",
          "text": [
            "100\n",
            "tf.Tensor(\n",
            "[[-0.00290524  0.00137863 -0.00436168 ... -0.00135023  0.00045297\n",
            "   0.00108651]\n",
            " [ 0.001192    0.00063423 -0.00416794 ...  0.00047004  0.00257632\n",
            "  -0.0045986 ]\n",
            " [ 0.00030491 -0.00106214 -0.00081758 ...  0.00025501  0.0040638\n",
            "  -0.00654072]\n",
            " ...\n",
            " [ 0.00300659  0.00436735 -0.01199023 ...  0.00949708  0.00310419\n",
            "   0.00843333]\n",
            " [ 0.00209468 -0.00121741 -0.00691133 ...  0.00466058  0.00621667\n",
            "   0.0073644 ]\n",
            " [ 0.00728187  0.0047348  -0.00617255 ...  0.00159634  0.00822825\n",
            "   0.00422227]], shape=(100, 65), dtype=float32)\n"
          ],
          "name": "stdout"
        }
      ]
    },
    {
      "cell_type": "code",
      "metadata": {
        "id": "yeJBYDfwdfK5"
      },
      "source": [
        "# and finally well look at a prediction at the first timestep.\r\n",
        "time_pred = pred[0]\r\n",
        "print(len(time_pred))\r\n",
        "print(time_pred)\r\n",
        "# and of course its 65 values representing the probabillity of each character occuring next."
      ],
      "execution_count": null,
      "outputs": []
    },
    {
      "cell_type": "code",
      "metadata": {
        "colab": {
          "base_uri": "https://localhost:8080/",
          "height": 144
        },
        "id": "_L0yyI9Qdlj1",
        "outputId": "34f44614-a79c-4d11-a15d-50b59cc7de4d"
      },
      "source": [
        "# If we want to determine the predicted character we need to sample the output distribution (pick a value based on probabillity)\r\n",
        "sampled_indices = tf.random.categorical(pred, num_samples=1)\r\n",
        "print(sampled_indices.shape)\r\n",
        "\r\n",
        "# now we can reshape that array and convert all the integers to numbers to see the actual characters\r\n",
        "sampled_indices = np.reshape(sampled_indices, (1, -1))[0]\r\n",
        "print(sampled_indices)\r\n",
        "\r\n",
        "predicted_chars = int_to_text(sampled_indices)\r\n",
        "\r\n",
        "predicted_chars  # and this is what the model predicted for training sequence 1"
      ],
      "execution_count": 69,
      "outputs": [
        {
          "output_type": "stream",
          "text": [
            "(100, 1)\n",
            "[43 17 42 60 43 60  6 20 34 36 41 63 31 34  4 53 16 38 25 22 38  3  1 10\n",
            " 64 52 32  3 31  8 22 41 40 54 50 40 31 55 37 36 57 62 13 44  2 36 35 47\n",
            " 48 29  8 22 30 43 23 35 34  9 43 25 32 42 55 42 33 60 50  4 16 37 29 52\n",
            " 54 40 17 22 27  5 54 34 62  8 44 60 51 52 14 57 44 10 60 61  3 31 25 28\n",
            " 20 17 38 57]\n"
          ],
          "name": "stdout"
        },
        {
          "output_type": "execute_result",
          "data": {
            "application/vnd.google.colaboratory.intrinsic+json": {
              "type": "string"
            },
            "text/plain": [
              "\"eEdvev,HVXcySV&oDZMJZ$ :znT$S.JcbplbSqYXsxAf!XWijQ.JReKWV3eMTdqdUvl&DYQnpbEJO'pVx.fvmnBsf:vw$SMPHEZs\""
            ]
          },
          "metadata": {
            "tags": []
          },
          "execution_count": 69
        }
      ]
    },
    {
      "cell_type": "markdown",
      "metadata": {
        "id": "zCgdWrDHex3z"
      },
      "source": [
        "So now we need to create a loss function that can compare that output to the expected output and give us some numeric value representing how close the two were. "
      ]
    },
    {
      "cell_type": "code",
      "metadata": {
        "id": "PXFhPEqCeyTR"
      },
      "source": [
        "def loss(labels, logits): # logits = propapility distributions\r\n",
        "  return tf.keras.losses.sparse_categorical_crossentropy(labels, logits, from_logits=True)"
      ],
      "execution_count": 74,
      "outputs": []
    },
    {
      "cell_type": "markdown",
      "metadata": {
        "id": "uTUJtAfPfAbr"
      },
      "source": [
        "###Compiling the Model\r\n",
        "At this point we can think of our problem as a classification problem where the model predicts the probabillity of each unique letter coming next. "
      ]
    },
    {
      "cell_type": "code",
      "metadata": {
        "id": "35kC-dHTfA0f"
      },
      "source": [
        "model.compile(optimizer='adam', loss=loss)"
      ],
      "execution_count": 75,
      "outputs": []
    },
    {
      "cell_type": "markdown",
      "metadata": {
        "id": "yyU98grafDDy"
      },
      "source": [
        "###Creating Checkpoints\r\n",
        "Now we are going to setup and configure our model to save checkpoinst as it trains. This will allow us to load our model from a checkpoint and continue training it."
      ]
    },
    {
      "cell_type": "code",
      "metadata": {
        "id": "sHYsI9a5fE4s"
      },
      "source": [
        "# Directory where the checkpoints will be saved\r\n",
        "checkpoint_dir = './training_checkpoints'\r\n",
        "# Name of the checkpoint files\r\n",
        "checkpoint_prefix = os.path.join(checkpoint_dir, \"ckpt_{epoch}\")\r\n",
        "\r\n",
        "checkpoint_callback=tf.keras.callbacks.ModelCheckpoint(\r\n",
        "    filepath=checkpoint_prefix,\r\n",
        "    save_weights_only=True)"
      ],
      "execution_count": 81,
      "outputs": []
    },
    {
      "cell_type": "markdown",
      "metadata": {
        "id": "ObCT9qxlfG7-"
      },
      "source": [
        "###Training\r\n",
        "Finally, we will start training the model. \r\n",
        "\r\n",
        "**If this is taking a while go to Runtime > Change Runtime Type and choose \"GPU\" under hardware accelerator.**\r\n",
        "\r\n"
      ]
    },
    {
      "cell_type": "code",
      "metadata": {
        "id": "7jEtnpomfJ2L"
      },
      "source": [
        "history = model.fit(data, epochs=50, callbacks=[checkpoint_callback])"
      ],
      "execution_count": null,
      "outputs": []
    },
    {
      "cell_type": "markdown",
      "metadata": {
        "id": "M6KMRfQ2lWbK"
      },
      "source": [
        "###Loading the Model\r\n",
        "We'll rebuild the model from a checkpoint using a batch_size of 1 so that we can feed one peice of text to the model and have it make a prediction."
      ]
    },
    {
      "cell_type": "code",
      "metadata": {
        "id": "Cbhl-x6-lYQr"
      },
      "source": [
        "model = build_model(VOCAB_SIZE, EMBEDDING_DIM, RNN_UNITS, batch_size=1)"
      ],
      "execution_count": 82,
      "outputs": []
    },
    {
      "cell_type": "markdown",
      "metadata": {
        "id": "wGiITlu9la9x"
      },
      "source": [
        "Once the model is finished training, we can find the **lastest checkpoint** that stores the models weights using the following line."
      ]
    },
    {
      "cell_type": "code",
      "metadata": {
        "id": "eiF9-3qzliap"
      },
      "source": [
        "model.load_weights(tf.train.latest_checkpoint(checkpoint_dir))\r\n",
        "model.build(tf.TensorShape([1, None]))"
      ],
      "execution_count": 90,
      "outputs": []
    },
    {
      "cell_type": "markdown",
      "metadata": {
        "id": "zbK5aprAlksq"
      },
      "source": [
        "We can load **any checkpoint** we want by specifying the exact file to load."
      ]
    },
    {
      "cell_type": "code",
      "metadata": {
        "id": "cpU_vkTYlmfb"
      },
      "source": [
        "'''checkpoint_num = 10\r\n",
        "model.load_weights(tf.train.load_checkpoint(\"./training_checkpoints/ckpt_\" + str(checkpoint_num)))\r\n",
        "model.build(tf.TensorShape([1, None]))\r\n",
        "'''"
      ],
      "execution_count": null,
      "outputs": []
    },
    {
      "cell_type": "markdown",
      "metadata": {
        "id": "OJRB6kl8l6o0"
      },
      "source": [
        "###Generating Text\r\n",
        "Now we can use the lovely function provided by tensorflow to generate some text using any starting string we'd like."
      ]
    },
    {
      "cell_type": "code",
      "metadata": {
        "id": "dI2xD-T6l-w3"
      },
      "source": [
        "def generate_text(model, start_string):\r\n",
        "  # Evaluation step (generating text using the learned model)\r\n",
        "\r\n",
        "  # Number of characters to generate\r\n",
        "  num_generate = 800\r\n",
        "\r\n",
        "  # Converting our start string to numbers (vectorizing)\r\n",
        "  input_eval = [char2idx[s] for s in start_string]\r\n",
        "  input_eval = tf.expand_dims(input_eval, 0) # from [] to [[]]\r\n",
        "\r\n",
        "  # Empty string to store our results\r\n",
        "  text_generated = []\r\n",
        "\r\n",
        "  # Low temperatures results in more predictable text.\r\n",
        "  # Higher temperatures results in more surprising text.\r\n",
        "  # Experiment to find the best setting.\r\n",
        "  temperature = 1.0\r\n",
        "\r\n",
        "  # Here batch size == 1\r\n",
        "  model.reset_states()\r\n",
        "  for i in range(num_generate):\r\n",
        "      predictions = model(input_eval)\r\n",
        "      # remove the batch dimension\r\n",
        "    \r\n",
        "      predictions = tf.squeeze(predictions, 0)\r\n",
        "\r\n",
        "      # using a categorical distribution to predict the character returned by the model\r\n",
        "      predictions = predictions / temperature\r\n",
        "      predicted_id = tf.random.categorical(predictions, num_samples=1)[-1,0].numpy()\r\n",
        "\r\n",
        "      # We pass the predicted character as the next input to the model\r\n",
        "      # along with the previous hidden state\r\n",
        "      input_eval = tf.expand_dims([predicted_id], 0)\r\n",
        "\r\n",
        "      text_generated.append(idx2char[predicted_id])\r\n",
        "\r\n",
        "  return (start_string + ''.join(text_generated))"
      ],
      "execution_count": 87,
      "outputs": []
    },
    {
      "cell_type": "code",
      "metadata": {
        "colab": {
          "base_uri": "https://localhost:8080/"
        },
        "id": "PFnOgRmkmEcz",
        "outputId": "b069b331-a812-4558-b54a-313cc22d5acc"
      },
      "source": [
        "inp = input(\"Type a starting string: \")\r\n",
        "print(generate_text(model, inp))"
      ],
      "execution_count": 88,
      "outputs": [
        {
          "output_type": "stream",
          "text": [
            "Type a starting string: Juliet\n",
            "Juliet have harpt themselves are gone,\n",
            "Let me to the as but not half a man be\n",
            "stoppied and remember their penitenture,\n",
            "That bear them live than one in the midwife there?\n",
            "\n",
            "SLY:\n",
            "Ay, and for that.\n",
            "Go, he is gone anonter, at the last,\n",
            "Do as they cannot crow her for her suitors.\n",
            "\n",
            "LUCENTIO:\n",
            "Nay, that's no IO:\n",
            "Go, see her, nay, you are deceived.\n",
            "\n",
            "LEONTES:\n",
            "The general is well slain, if a thousand furlot is\n",
            "wear falsehood, is't not a kind of has\n",
            "From me a break night: I have a brother\n",
            "And provoked him to present not thee.\n",
            "\n",
            "GLOUCESTER:\n",
            "More.\n",
            "\n",
            "CORIOLANUS:\n",
            "A word with o! Claudio! which made you bring them on?\n",
            "\n",
            "MENENIUS:\n",
            "Do you hear a son are all determined\n",
            "The abundant of our silt, and a corse\n",
            "Reward of York, but death we shall acquaint:\n",
            "Tell him, and sparest thy princely bail\n",
            "\n",
            "ANGER:\n",
            "You will not fight in \n"
          ],
          "name": "stdout"
        }
      ]
    },
    {
      "cell_type": "markdown",
      "metadata": {
        "id": "nbMUEcqTnRoW"
      },
      "source": [
        "*And* that's pretty much it for this module! I highly reccomend messing with the model we just created and seeing what you can get it to do!"
      ]
    },
    {
      "cell_type": "markdown",
      "metadata": {
        "id": "vNng9QkbnUKW"
      },
      "source": [
        "##Sources\r\n",
        "\r\n",
        "1. Chollet François. Deep Learning with Python. Manning Publications Co., 2018.\r\n",
        "2. “Text Classification with an RNN &nbsp;: &nbsp; TensorFlow Core.” TensorFlow, www.tensorflow.org/tutorials/text/text_classification_rnn.\r\n",
        "3. “Text Generation with an RNN &nbsp;: &nbsp; TensorFlow Core.” TensorFlow, www.tensorflow.org/tutorials/text/text_generation.\r\n",
        "4. “Understanding LSTM Networks.” Understanding LSTM Networks -- Colah's Blog, https://colah.github.io/posts/2015-08-Understanding-LSTMs/."
      ]
    }
  ]
}